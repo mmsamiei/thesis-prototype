{
  "nbformat": 4,
  "nbformat_minor": 0,
  "metadata": {
    "colab": {
      "name": "data_loading_phase2.ipynb",
      "provenance": [],
      "collapsed_sections": [],
      "toc_visible": true,
      "machine_shape": "hm",
      "include_colab_link": true
    },
    "kernelspec": {
      "name": "python3",
      "display_name": "Python 3"
    },
    "accelerator": "GPU",
    "widgets": {
      "application/vnd.jupyter.widget-state+json": {
        "0c6f04f1847b4a7a98dc8dba936fad60": {
          "model_module": "@jupyter-widgets/controls",
          "model_name": "HBoxModel",
          "state": {
            "_view_name": "HBoxView",
            "_dom_classes": [],
            "_model_name": "HBoxModel",
            "_view_module": "@jupyter-widgets/controls",
            "_model_module_version": "1.5.0",
            "_view_count": null,
            "_view_module_version": "1.5.0",
            "box_style": "",
            "layout": "IPY_MODEL_6bb8cc0d181c49048ae503fc13e4e664",
            "_model_module": "@jupyter-widgets/controls",
            "children": [
              "IPY_MODEL_991c2f094a65472fa3768bef33dd5fb9",
              "IPY_MODEL_461371a687cd4ed0a7dbab6eefc67b03"
            ]
          }
        },
        "6bb8cc0d181c49048ae503fc13e4e664": {
          "model_module": "@jupyter-widgets/base",
          "model_name": "LayoutModel",
          "state": {
            "_view_name": "LayoutView",
            "grid_template_rows": null,
            "right": null,
            "justify_content": null,
            "_view_module": "@jupyter-widgets/base",
            "overflow": null,
            "_model_module_version": "1.2.0",
            "_view_count": null,
            "flex_flow": null,
            "width": null,
            "min_width": null,
            "border": null,
            "align_items": null,
            "bottom": null,
            "_model_module": "@jupyter-widgets/base",
            "top": null,
            "grid_column": null,
            "overflow_y": null,
            "overflow_x": null,
            "grid_auto_flow": null,
            "grid_area": null,
            "grid_template_columns": null,
            "flex": null,
            "_model_name": "LayoutModel",
            "justify_items": null,
            "grid_row": null,
            "max_height": null,
            "align_content": null,
            "visibility": null,
            "align_self": null,
            "height": null,
            "min_height": null,
            "padding": null,
            "grid_auto_rows": null,
            "grid_gap": null,
            "max_width": null,
            "order": null,
            "_view_module_version": "1.2.0",
            "grid_template_areas": null,
            "object_position": null,
            "object_fit": null,
            "grid_auto_columns": null,
            "margin": null,
            "display": null,
            "left": null
          }
        },
        "991c2f094a65472fa3768bef33dd5fb9": {
          "model_module": "@jupyter-widgets/controls",
          "model_name": "FloatProgressModel",
          "state": {
            "_view_name": "ProgressView",
            "style": "IPY_MODEL_0a126145644e4f3a98f7fd5abffde41b",
            "_dom_classes": [],
            "description": "100%",
            "_model_name": "FloatProgressModel",
            "bar_style": "success",
            "max": 77131,
            "_view_module": "@jupyter-widgets/controls",
            "_model_module_version": "1.5.0",
            "value": 77131,
            "_view_count": null,
            "_view_module_version": "1.5.0",
            "orientation": "horizontal",
            "min": 0,
            "description_tooltip": null,
            "_model_module": "@jupyter-widgets/controls",
            "layout": "IPY_MODEL_5d0018d3711945f2a1a65e201e1f872a"
          }
        },
        "461371a687cd4ed0a7dbab6eefc67b03": {
          "model_module": "@jupyter-widgets/controls",
          "model_name": "HTMLModel",
          "state": {
            "_view_name": "HTMLView",
            "style": "IPY_MODEL_5ad5aa18d5a743e9906509cd1b56e021",
            "_dom_classes": [],
            "description": "",
            "_model_name": "HTMLModel",
            "placeholder": "​",
            "_view_module": "@jupyter-widgets/controls",
            "_model_module_version": "1.5.0",
            "value": " 77131/77131 [52:31&lt;00:00, 24.48it/s]",
            "_view_count": null,
            "_view_module_version": "1.5.0",
            "description_tooltip": null,
            "_model_module": "@jupyter-widgets/controls",
            "layout": "IPY_MODEL_6268047305fe4a76876086a804685db6"
          }
        },
        "0a126145644e4f3a98f7fd5abffde41b": {
          "model_module": "@jupyter-widgets/controls",
          "model_name": "ProgressStyleModel",
          "state": {
            "_view_name": "StyleView",
            "_model_name": "ProgressStyleModel",
            "description_width": "initial",
            "_view_module": "@jupyter-widgets/base",
            "_model_module_version": "1.5.0",
            "_view_count": null,
            "_view_module_version": "1.2.0",
            "bar_color": null,
            "_model_module": "@jupyter-widgets/controls"
          }
        },
        "5d0018d3711945f2a1a65e201e1f872a": {
          "model_module": "@jupyter-widgets/base",
          "model_name": "LayoutModel",
          "state": {
            "_view_name": "LayoutView",
            "grid_template_rows": null,
            "right": null,
            "justify_content": null,
            "_view_module": "@jupyter-widgets/base",
            "overflow": null,
            "_model_module_version": "1.2.0",
            "_view_count": null,
            "flex_flow": null,
            "width": null,
            "min_width": null,
            "border": null,
            "align_items": null,
            "bottom": null,
            "_model_module": "@jupyter-widgets/base",
            "top": null,
            "grid_column": null,
            "overflow_y": null,
            "overflow_x": null,
            "grid_auto_flow": null,
            "grid_area": null,
            "grid_template_columns": null,
            "flex": null,
            "_model_name": "LayoutModel",
            "justify_items": null,
            "grid_row": null,
            "max_height": null,
            "align_content": null,
            "visibility": null,
            "align_self": null,
            "height": null,
            "min_height": null,
            "padding": null,
            "grid_auto_rows": null,
            "grid_gap": null,
            "max_width": null,
            "order": null,
            "_view_module_version": "1.2.0",
            "grid_template_areas": null,
            "object_position": null,
            "object_fit": null,
            "grid_auto_columns": null,
            "margin": null,
            "display": null,
            "left": null
          }
        },
        "5ad5aa18d5a743e9906509cd1b56e021": {
          "model_module": "@jupyter-widgets/controls",
          "model_name": "DescriptionStyleModel",
          "state": {
            "_view_name": "StyleView",
            "_model_name": "DescriptionStyleModel",
            "description_width": "",
            "_view_module": "@jupyter-widgets/base",
            "_model_module_version": "1.5.0",
            "_view_count": null,
            "_view_module_version": "1.2.0",
            "_model_module": "@jupyter-widgets/controls"
          }
        },
        "6268047305fe4a76876086a804685db6": {
          "model_module": "@jupyter-widgets/base",
          "model_name": "LayoutModel",
          "state": {
            "_view_name": "LayoutView",
            "grid_template_rows": null,
            "right": null,
            "justify_content": null,
            "_view_module": "@jupyter-widgets/base",
            "overflow": null,
            "_model_module_version": "1.2.0",
            "_view_count": null,
            "flex_flow": null,
            "width": null,
            "min_width": null,
            "border": null,
            "align_items": null,
            "bottom": null,
            "_model_module": "@jupyter-widgets/base",
            "top": null,
            "grid_column": null,
            "overflow_y": null,
            "overflow_x": null,
            "grid_auto_flow": null,
            "grid_area": null,
            "grid_template_columns": null,
            "flex": null,
            "_model_name": "LayoutModel",
            "justify_items": null,
            "grid_row": null,
            "max_height": null,
            "align_content": null,
            "visibility": null,
            "align_self": null,
            "height": null,
            "min_height": null,
            "padding": null,
            "grid_auto_rows": null,
            "grid_gap": null,
            "max_width": null,
            "order": null,
            "_view_module_version": "1.2.0",
            "grid_template_areas": null,
            "object_position": null,
            "object_fit": null,
            "grid_auto_columns": null,
            "margin": null,
            "display": null,
            "left": null
          }
        },
        "5223ec01848b48729704c10119ed65de": {
          "model_module": "@jupyter-widgets/controls",
          "model_name": "HBoxModel",
          "state": {
            "_view_name": "HBoxView",
            "_dom_classes": [],
            "_model_name": "HBoxModel",
            "_view_module": "@jupyter-widgets/controls",
            "_model_module_version": "1.5.0",
            "_view_count": null,
            "_view_module_version": "1.5.0",
            "box_style": "",
            "layout": "IPY_MODEL_0d0bce08db4f448cb7d13e8fc17181bf",
            "_model_module": "@jupyter-widgets/controls",
            "children": [
              "IPY_MODEL_132d0cc15fb4426e92dc045530cd5c27",
              "IPY_MODEL_0cd97319af74479d98da48a0603f0f0e"
            ]
          }
        },
        "0d0bce08db4f448cb7d13e8fc17181bf": {
          "model_module": "@jupyter-widgets/base",
          "model_name": "LayoutModel",
          "state": {
            "_view_name": "LayoutView",
            "grid_template_rows": null,
            "right": null,
            "justify_content": null,
            "_view_module": "@jupyter-widgets/base",
            "overflow": null,
            "_model_module_version": "1.2.0",
            "_view_count": null,
            "flex_flow": null,
            "width": null,
            "min_width": null,
            "border": null,
            "align_items": null,
            "bottom": null,
            "_model_module": "@jupyter-widgets/base",
            "top": null,
            "grid_column": null,
            "overflow_y": null,
            "overflow_x": null,
            "grid_auto_flow": null,
            "grid_area": null,
            "grid_template_columns": null,
            "flex": null,
            "_model_name": "LayoutModel",
            "justify_items": null,
            "grid_row": null,
            "max_height": null,
            "align_content": null,
            "visibility": null,
            "align_self": null,
            "height": null,
            "min_height": null,
            "padding": null,
            "grid_auto_rows": null,
            "grid_gap": null,
            "max_width": null,
            "order": null,
            "_view_module_version": "1.2.0",
            "grid_template_areas": null,
            "object_position": null,
            "object_fit": null,
            "grid_auto_columns": null,
            "margin": null,
            "display": null,
            "left": null
          }
        },
        "132d0cc15fb4426e92dc045530cd5c27": {
          "model_module": "@jupyter-widgets/controls",
          "model_name": "FloatProgressModel",
          "state": {
            "_view_name": "ProgressView",
            "style": "IPY_MODEL_dd4aad1d37d646108b18027f3fb5ff54",
            "_dom_classes": [],
            "description": "100%",
            "_model_name": "FloatProgressModel",
            "bar_style": "success",
            "max": 77131,
            "_view_module": "@jupyter-widgets/controls",
            "_model_module_version": "1.5.0",
            "value": 77131,
            "_view_count": null,
            "_view_module_version": "1.5.0",
            "orientation": "horizontal",
            "min": 0,
            "description_tooltip": null,
            "_model_module": "@jupyter-widgets/controls",
            "layout": "IPY_MODEL_49e2249411d2463cb1f7803f7da7b5ee"
          }
        },
        "0cd97319af74479d98da48a0603f0f0e": {
          "model_module": "@jupyter-widgets/controls",
          "model_name": "HTMLModel",
          "state": {
            "_view_name": "HTMLView",
            "style": "IPY_MODEL_4fac68fade40481a80fcfd5a44bf92d7",
            "_dom_classes": [],
            "description": "",
            "_model_name": "HTMLModel",
            "placeholder": "​",
            "_view_module": "@jupyter-widgets/controls",
            "_model_module_version": "1.5.0",
            "value": " 77131/77131 [32:37&lt;00:00, 39.40it/s]",
            "_view_count": null,
            "_view_module_version": "1.5.0",
            "description_tooltip": null,
            "_model_module": "@jupyter-widgets/controls",
            "layout": "IPY_MODEL_964f516b081d48f598fcf104d08df567"
          }
        },
        "dd4aad1d37d646108b18027f3fb5ff54": {
          "model_module": "@jupyter-widgets/controls",
          "model_name": "ProgressStyleModel",
          "state": {
            "_view_name": "StyleView",
            "_model_name": "ProgressStyleModel",
            "description_width": "initial",
            "_view_module": "@jupyter-widgets/base",
            "_model_module_version": "1.5.0",
            "_view_count": null,
            "_view_module_version": "1.2.0",
            "bar_color": null,
            "_model_module": "@jupyter-widgets/controls"
          }
        },
        "49e2249411d2463cb1f7803f7da7b5ee": {
          "model_module": "@jupyter-widgets/base",
          "model_name": "LayoutModel",
          "state": {
            "_view_name": "LayoutView",
            "grid_template_rows": null,
            "right": null,
            "justify_content": null,
            "_view_module": "@jupyter-widgets/base",
            "overflow": null,
            "_model_module_version": "1.2.0",
            "_view_count": null,
            "flex_flow": null,
            "width": null,
            "min_width": null,
            "border": null,
            "align_items": null,
            "bottom": null,
            "_model_module": "@jupyter-widgets/base",
            "top": null,
            "grid_column": null,
            "overflow_y": null,
            "overflow_x": null,
            "grid_auto_flow": null,
            "grid_area": null,
            "grid_template_columns": null,
            "flex": null,
            "_model_name": "LayoutModel",
            "justify_items": null,
            "grid_row": null,
            "max_height": null,
            "align_content": null,
            "visibility": null,
            "align_self": null,
            "height": null,
            "min_height": null,
            "padding": null,
            "grid_auto_rows": null,
            "grid_gap": null,
            "max_width": null,
            "order": null,
            "_view_module_version": "1.2.0",
            "grid_template_areas": null,
            "object_position": null,
            "object_fit": null,
            "grid_auto_columns": null,
            "margin": null,
            "display": null,
            "left": null
          }
        },
        "4fac68fade40481a80fcfd5a44bf92d7": {
          "model_module": "@jupyter-widgets/controls",
          "model_name": "DescriptionStyleModel",
          "state": {
            "_view_name": "StyleView",
            "_model_name": "DescriptionStyleModel",
            "description_width": "",
            "_view_module": "@jupyter-widgets/base",
            "_model_module_version": "1.5.0",
            "_view_count": null,
            "_view_module_version": "1.2.0",
            "_model_module": "@jupyter-widgets/controls"
          }
        },
        "964f516b081d48f598fcf104d08df567": {
          "model_module": "@jupyter-widgets/base",
          "model_name": "LayoutModel",
          "state": {
            "_view_name": "LayoutView",
            "grid_template_rows": null,
            "right": null,
            "justify_content": null,
            "_view_module": "@jupyter-widgets/base",
            "overflow": null,
            "_model_module_version": "1.2.0",
            "_view_count": null,
            "flex_flow": null,
            "width": null,
            "min_width": null,
            "border": null,
            "align_items": null,
            "bottom": null,
            "_model_module": "@jupyter-widgets/base",
            "top": null,
            "grid_column": null,
            "overflow_y": null,
            "overflow_x": null,
            "grid_auto_flow": null,
            "grid_area": null,
            "grid_template_columns": null,
            "flex": null,
            "_model_name": "LayoutModel",
            "justify_items": null,
            "grid_row": null,
            "max_height": null,
            "align_content": null,
            "visibility": null,
            "align_self": null,
            "height": null,
            "min_height": null,
            "padding": null,
            "grid_auto_rows": null,
            "grid_gap": null,
            "max_width": null,
            "order": null,
            "_view_module_version": "1.2.0",
            "grid_template_areas": null,
            "object_position": null,
            "object_fit": null,
            "grid_auto_columns": null,
            "margin": null,
            "display": null,
            "left": null
          }
        },
        "603bed6226884ec4a04088f3e9c53e85": {
          "model_module": "@jupyter-widgets/controls",
          "model_name": "HBoxModel",
          "state": {
            "_view_name": "HBoxView",
            "_dom_classes": [],
            "_model_name": "HBoxModel",
            "_view_module": "@jupyter-widgets/controls",
            "_model_module_version": "1.5.0",
            "_view_count": null,
            "_view_module_version": "1.5.0",
            "box_style": "",
            "layout": "IPY_MODEL_54a074194afb49e7b5861ab72469483f",
            "_model_module": "@jupyter-widgets/controls",
            "children": [
              "IPY_MODEL_d66a5ce2fa1c41df88b8c91c014515d1",
              "IPY_MODEL_bff3f6b02af1428c8e2df15622383696"
            ]
          }
        },
        "54a074194afb49e7b5861ab72469483f": {
          "model_module": "@jupyter-widgets/base",
          "model_name": "LayoutModel",
          "state": {
            "_view_name": "LayoutView",
            "grid_template_rows": null,
            "right": null,
            "justify_content": null,
            "_view_module": "@jupyter-widgets/base",
            "overflow": null,
            "_model_module_version": "1.2.0",
            "_view_count": null,
            "flex_flow": null,
            "width": null,
            "min_width": null,
            "border": null,
            "align_items": null,
            "bottom": null,
            "_model_module": "@jupyter-widgets/base",
            "top": null,
            "grid_column": null,
            "overflow_y": null,
            "overflow_x": null,
            "grid_auto_flow": null,
            "grid_area": null,
            "grid_template_columns": null,
            "flex": null,
            "_model_name": "LayoutModel",
            "justify_items": null,
            "grid_row": null,
            "max_height": null,
            "align_content": null,
            "visibility": null,
            "align_self": null,
            "height": null,
            "min_height": null,
            "padding": null,
            "grid_auto_rows": null,
            "grid_gap": null,
            "max_width": null,
            "order": null,
            "_view_module_version": "1.2.0",
            "grid_template_areas": null,
            "object_position": null,
            "object_fit": null,
            "grid_auto_columns": null,
            "margin": null,
            "display": null,
            "left": null
          }
        },
        "d66a5ce2fa1c41df88b8c91c014515d1": {
          "model_module": "@jupyter-widgets/controls",
          "model_name": "FloatProgressModel",
          "state": {
            "_view_name": "ProgressView",
            "style": "IPY_MODEL_0f8fbdfd24064606a31d2f9d9485a1d1",
            "_dom_classes": [],
            "description": "100%",
            "_model_name": "FloatProgressModel",
            "bar_style": "success",
            "max": 77131,
            "_view_module": "@jupyter-widgets/controls",
            "_model_module_version": "1.5.0",
            "value": 77131,
            "_view_count": null,
            "_view_module_version": "1.5.0",
            "orientation": "horizontal",
            "min": 0,
            "description_tooltip": null,
            "_model_module": "@jupyter-widgets/controls",
            "layout": "IPY_MODEL_04766ed7f46a480488946c48b6b20741"
          }
        },
        "bff3f6b02af1428c8e2df15622383696": {
          "model_module": "@jupyter-widgets/controls",
          "model_name": "HTMLModel",
          "state": {
            "_view_name": "HTMLView",
            "style": "IPY_MODEL_a11580ecc43b4cb09c7a96729f763f48",
            "_dom_classes": [],
            "description": "",
            "_model_name": "HTMLModel",
            "placeholder": "​",
            "_view_module": "@jupyter-widgets/controls",
            "_model_module_version": "1.5.0",
            "value": " 77131/77131 [16:21&lt;00:00, 78.56it/s]",
            "_view_count": null,
            "_view_module_version": "1.5.0",
            "description_tooltip": null,
            "_model_module": "@jupyter-widgets/controls",
            "layout": "IPY_MODEL_961fcab11c564cd098aa40e1257935ca"
          }
        },
        "0f8fbdfd24064606a31d2f9d9485a1d1": {
          "model_module": "@jupyter-widgets/controls",
          "model_name": "ProgressStyleModel",
          "state": {
            "_view_name": "StyleView",
            "_model_name": "ProgressStyleModel",
            "description_width": "initial",
            "_view_module": "@jupyter-widgets/base",
            "_model_module_version": "1.5.0",
            "_view_count": null,
            "_view_module_version": "1.2.0",
            "bar_color": null,
            "_model_module": "@jupyter-widgets/controls"
          }
        },
        "04766ed7f46a480488946c48b6b20741": {
          "model_module": "@jupyter-widgets/base",
          "model_name": "LayoutModel",
          "state": {
            "_view_name": "LayoutView",
            "grid_template_rows": null,
            "right": null,
            "justify_content": null,
            "_view_module": "@jupyter-widgets/base",
            "overflow": null,
            "_model_module_version": "1.2.0",
            "_view_count": null,
            "flex_flow": null,
            "width": null,
            "min_width": null,
            "border": null,
            "align_items": null,
            "bottom": null,
            "_model_module": "@jupyter-widgets/base",
            "top": null,
            "grid_column": null,
            "overflow_y": null,
            "overflow_x": null,
            "grid_auto_flow": null,
            "grid_area": null,
            "grid_template_columns": null,
            "flex": null,
            "_model_name": "LayoutModel",
            "justify_items": null,
            "grid_row": null,
            "max_height": null,
            "align_content": null,
            "visibility": null,
            "align_self": null,
            "height": null,
            "min_height": null,
            "padding": null,
            "grid_auto_rows": null,
            "grid_gap": null,
            "max_width": null,
            "order": null,
            "_view_module_version": "1.2.0",
            "grid_template_areas": null,
            "object_position": null,
            "object_fit": null,
            "grid_auto_columns": null,
            "margin": null,
            "display": null,
            "left": null
          }
        },
        "a11580ecc43b4cb09c7a96729f763f48": {
          "model_module": "@jupyter-widgets/controls",
          "model_name": "DescriptionStyleModel",
          "state": {
            "_view_name": "StyleView",
            "_model_name": "DescriptionStyleModel",
            "description_width": "",
            "_view_module": "@jupyter-widgets/base",
            "_model_module_version": "1.5.0",
            "_view_count": null,
            "_view_module_version": "1.2.0",
            "_model_module": "@jupyter-widgets/controls"
          }
        },
        "961fcab11c564cd098aa40e1257935ca": {
          "model_module": "@jupyter-widgets/base",
          "model_name": "LayoutModel",
          "state": {
            "_view_name": "LayoutView",
            "grid_template_rows": null,
            "right": null,
            "justify_content": null,
            "_view_module": "@jupyter-widgets/base",
            "overflow": null,
            "_model_module_version": "1.2.0",
            "_view_count": null,
            "flex_flow": null,
            "width": null,
            "min_width": null,
            "border": null,
            "align_items": null,
            "bottom": null,
            "_model_module": "@jupyter-widgets/base",
            "top": null,
            "grid_column": null,
            "overflow_y": null,
            "overflow_x": null,
            "grid_auto_flow": null,
            "grid_area": null,
            "grid_template_columns": null,
            "flex": null,
            "_model_name": "LayoutModel",
            "justify_items": null,
            "grid_row": null,
            "max_height": null,
            "align_content": null,
            "visibility": null,
            "align_self": null,
            "height": null,
            "min_height": null,
            "padding": null,
            "grid_auto_rows": null,
            "grid_gap": null,
            "max_width": null,
            "order": null,
            "_view_module_version": "1.2.0",
            "grid_template_areas": null,
            "object_position": null,
            "object_fit": null,
            "grid_auto_columns": null,
            "margin": null,
            "display": null,
            "left": null
          }
        },
        "80c3569dd0f34902b6c8951831b570b8": {
          "model_module": "@jupyter-widgets/controls",
          "model_name": "HBoxModel",
          "state": {
            "_view_name": "HBoxView",
            "_dom_classes": [],
            "_model_name": "HBoxModel",
            "_view_module": "@jupyter-widgets/controls",
            "_model_module_version": "1.5.0",
            "_view_count": null,
            "_view_module_version": "1.5.0",
            "box_style": "",
            "layout": "IPY_MODEL_2699da33070a4f559a16b22f6ea9332b",
            "_model_module": "@jupyter-widgets/controls",
            "children": [
              "IPY_MODEL_e9aba0707dab4bf1b1fac2442c62a3c7",
              "IPY_MODEL_4de277ae4f654e188371237039bf8604"
            ]
          }
        },
        "2699da33070a4f559a16b22f6ea9332b": {
          "model_module": "@jupyter-widgets/base",
          "model_name": "LayoutModel",
          "state": {
            "_view_name": "LayoutView",
            "grid_template_rows": null,
            "right": null,
            "justify_content": null,
            "_view_module": "@jupyter-widgets/base",
            "overflow": null,
            "_model_module_version": "1.2.0",
            "_view_count": null,
            "flex_flow": null,
            "width": null,
            "min_width": null,
            "border": null,
            "align_items": null,
            "bottom": null,
            "_model_module": "@jupyter-widgets/base",
            "top": null,
            "grid_column": null,
            "overflow_y": null,
            "overflow_x": null,
            "grid_auto_flow": null,
            "grid_area": null,
            "grid_template_columns": null,
            "flex": null,
            "_model_name": "LayoutModel",
            "justify_items": null,
            "grid_row": null,
            "max_height": null,
            "align_content": null,
            "visibility": null,
            "align_self": null,
            "height": null,
            "min_height": null,
            "padding": null,
            "grid_auto_rows": null,
            "grid_gap": null,
            "max_width": null,
            "order": null,
            "_view_module_version": "1.2.0",
            "grid_template_areas": null,
            "object_position": null,
            "object_fit": null,
            "grid_auto_columns": null,
            "margin": null,
            "display": null,
            "left": null
          }
        },
        "e9aba0707dab4bf1b1fac2442c62a3c7": {
          "model_module": "@jupyter-widgets/controls",
          "model_name": "FloatProgressModel",
          "state": {
            "_view_name": "ProgressView",
            "style": "IPY_MODEL_2128bd7871a0443cb006cfe67ea10c53",
            "_dom_classes": [],
            "description": "100%",
            "_model_name": "FloatProgressModel",
            "bar_style": "success",
            "max": 4078,
            "_view_module": "@jupyter-widgets/controls",
            "_model_module_version": "1.5.0",
            "value": 4078,
            "_view_count": null,
            "_view_module_version": "1.5.0",
            "orientation": "horizontal",
            "min": 0,
            "description_tooltip": null,
            "_model_module": "@jupyter-widgets/controls",
            "layout": "IPY_MODEL_b2ff6b6ad5be4b6f969fa2731c5146c4"
          }
        },
        "4de277ae4f654e188371237039bf8604": {
          "model_module": "@jupyter-widgets/controls",
          "model_name": "HTMLModel",
          "state": {
            "_view_name": "HTMLView",
            "style": "IPY_MODEL_33481d9e181b467db949eafd8526d30b",
            "_dom_classes": [],
            "description": "",
            "_model_name": "HTMLModel",
            "placeholder": "​",
            "_view_module": "@jupyter-widgets/controls",
            "_model_module_version": "1.5.0",
            "value": " 4078/4078 [02:13&lt;00:00, 30.44it/s]",
            "_view_count": null,
            "_view_module_version": "1.5.0",
            "description_tooltip": null,
            "_model_module": "@jupyter-widgets/controls",
            "layout": "IPY_MODEL_a4a12f2b097b4bcda2ea34353acbf95f"
          }
        },
        "2128bd7871a0443cb006cfe67ea10c53": {
          "model_module": "@jupyter-widgets/controls",
          "model_name": "ProgressStyleModel",
          "state": {
            "_view_name": "StyleView",
            "_model_name": "ProgressStyleModel",
            "description_width": "initial",
            "_view_module": "@jupyter-widgets/base",
            "_model_module_version": "1.5.0",
            "_view_count": null,
            "_view_module_version": "1.2.0",
            "bar_color": null,
            "_model_module": "@jupyter-widgets/controls"
          }
        },
        "b2ff6b6ad5be4b6f969fa2731c5146c4": {
          "model_module": "@jupyter-widgets/base",
          "model_name": "LayoutModel",
          "state": {
            "_view_name": "LayoutView",
            "grid_template_rows": null,
            "right": null,
            "justify_content": null,
            "_view_module": "@jupyter-widgets/base",
            "overflow": null,
            "_model_module_version": "1.2.0",
            "_view_count": null,
            "flex_flow": null,
            "width": null,
            "min_width": null,
            "border": null,
            "align_items": null,
            "bottom": null,
            "_model_module": "@jupyter-widgets/base",
            "top": null,
            "grid_column": null,
            "overflow_y": null,
            "overflow_x": null,
            "grid_auto_flow": null,
            "grid_area": null,
            "grid_template_columns": null,
            "flex": null,
            "_model_name": "LayoutModel",
            "justify_items": null,
            "grid_row": null,
            "max_height": null,
            "align_content": null,
            "visibility": null,
            "align_self": null,
            "height": null,
            "min_height": null,
            "padding": null,
            "grid_auto_rows": null,
            "grid_gap": null,
            "max_width": null,
            "order": null,
            "_view_module_version": "1.2.0",
            "grid_template_areas": null,
            "object_position": null,
            "object_fit": null,
            "grid_auto_columns": null,
            "margin": null,
            "display": null,
            "left": null
          }
        },
        "33481d9e181b467db949eafd8526d30b": {
          "model_module": "@jupyter-widgets/controls",
          "model_name": "DescriptionStyleModel",
          "state": {
            "_view_name": "StyleView",
            "_model_name": "DescriptionStyleModel",
            "description_width": "",
            "_view_module": "@jupyter-widgets/base",
            "_model_module_version": "1.5.0",
            "_view_count": null,
            "_view_module_version": "1.2.0",
            "_model_module": "@jupyter-widgets/controls"
          }
        },
        "a4a12f2b097b4bcda2ea34353acbf95f": {
          "model_module": "@jupyter-widgets/base",
          "model_name": "LayoutModel",
          "state": {
            "_view_name": "LayoutView",
            "grid_template_rows": null,
            "right": null,
            "justify_content": null,
            "_view_module": "@jupyter-widgets/base",
            "overflow": null,
            "_model_module_version": "1.2.0",
            "_view_count": null,
            "flex_flow": null,
            "width": null,
            "min_width": null,
            "border": null,
            "align_items": null,
            "bottom": null,
            "_model_module": "@jupyter-widgets/base",
            "top": null,
            "grid_column": null,
            "overflow_y": null,
            "overflow_x": null,
            "grid_auto_flow": null,
            "grid_area": null,
            "grid_template_columns": null,
            "flex": null,
            "_model_name": "LayoutModel",
            "justify_items": null,
            "grid_row": null,
            "max_height": null,
            "align_content": null,
            "visibility": null,
            "align_self": null,
            "height": null,
            "min_height": null,
            "padding": null,
            "grid_auto_rows": null,
            "grid_gap": null,
            "max_width": null,
            "order": null,
            "_view_module_version": "1.2.0",
            "grid_template_areas": null,
            "object_position": null,
            "object_fit": null,
            "grid_auto_columns": null,
            "margin": null,
            "display": null,
            "left": null
          }
        }
      }
    }
  },
  "cells": [
    {
      "cell_type": "markdown",
      "metadata": {
        "id": "view-in-github",
        "colab_type": "text"
      },
      "source": [
        "<a href=\"https://colab.research.google.com/github/mmsamiei/thesis-prototype/blob/master/phase2_simple_transformer.ipynb\" target=\"_parent\"><img src=\"https://colab.research.google.com/assets/colab-badge.svg\" alt=\"Open In Colab\"/></a>"
      ]
    },
    {
      "cell_type": "code",
      "metadata": {
        "id": "Z34IzmeS7Bd6",
        "colab_type": "code",
        "outputId": "78e890dc-9d65-4e5c-ceeb-99e932a69a3a",
        "colab": {
          "base_uri": "https://localhost:8080/",
          "height": 126
        }
      },
      "source": [
        "from google.colab import drive\n",
        "drive.mount('/content/drive')"
      ],
      "execution_count": 1,
      "outputs": [
        {
          "output_type": "stream",
          "text": [
            "Go to this URL in a browser: https://accounts.google.com/o/oauth2/auth?client_id=947318989803-6bn6qk8qdgf4n4g3pfee6491hc0brc4i.apps.googleusercontent.com&redirect_uri=urn%3aietf%3awg%3aoauth%3a2.0%3aoob&response_type=code&scope=email%20https%3a%2f%2fwww.googleapis.com%2fauth%2fdocs.test%20https%3a%2f%2fwww.googleapis.com%2fauth%2fdrive%20https%3a%2f%2fwww.googleapis.com%2fauth%2fdrive.photos.readonly%20https%3a%2f%2fwww.googleapis.com%2fauth%2fpeopleapi.readonly\n",
            "\n",
            "Enter your authorization code:\n",
            "··········\n",
            "Mounted at /content/drive\n"
          ],
          "name": "stdout"
        }
      ]
    },
    {
      "cell_type": "code",
      "metadata": {
        "id": "8fO-sYWD7RBQ",
        "colab_type": "code",
        "colab": {}
      },
      "source": [
        "!cp /content/drive/My\\ Drive/Thesis/phase-2/train_tokenized_bert.json /content/train.json"
      ],
      "execution_count": 0,
      "outputs": []
    },
    {
      "cell_type": "code",
      "metadata": {
        "id": "K2dAoag47ZOI",
        "colab_type": "code",
        "colab": {}
      },
      "source": [
        "from torch.utils.data import Dataset, DataLoader\n",
        "import os\n",
        "import torch\n",
        "import json\n",
        "from torch.utils.data.sampler import SubsetRandomSampler"
      ],
      "execution_count": 0,
      "outputs": []
    },
    {
      "cell_type": "code",
      "metadata": {
        "id": "snE8o32EMaO_",
        "colab_type": "code",
        "colab": {}
      },
      "source": [
        "class MyDataset(Dataset):\n",
        "    \"\"\"My dataset.\"\"\"\n",
        "\n",
        "    def __init__(self, json_file):\n",
        "        \"\"\"\n",
        "        Args:\n",
        "            json_file (string): Path to the json file with annotations.\n",
        "        \"\"\"\n",
        "        self.dialogues = json.load(open(json_file))\n",
        "        self.root_dir = json_file\n",
        "\n",
        "        self.dialogues = sorted(self.dialogues, key=lambda x: len(x['history']))\n",
        "\n",
        "    def __len__(self):\n",
        "        return len(self.dialogues)\n",
        "\n",
        "    def __getitem__(self, idx):\n",
        "      \n",
        "        \n",
        "        history_lst = self.dialogues[idx]['history']\n",
        "        true_lst = self.dialogues[idx]['true_sentence']\n",
        "        false_lst = self.dialogues[idx]['false_sentenc']\n",
        "\n",
        "\n",
        "        if(len(history_lst)>40):\n",
        "          history_lst = history_lst[-40:]\n",
        "\n",
        "        if(len(true_lst)>40):\n",
        "          true_lst = true_lst[:40]\n",
        "        \n",
        "        if(len(false_lst)>40):\n",
        "          false_lst = false_lst[:40]\n",
        "        \n",
        "\n",
        "        history = torch.LongTensor(history_lst)\n",
        "        true_sample = torch.LongTensor(true_lst)\n",
        "        false_sample = torch.LongTensor(false_lst)\n",
        "\n",
        "        sample = {'history': history, 'true_sample': true_sample, 'false_sample': false_sample}\n",
        "\n",
        "        return sample"
      ],
      "execution_count": 0,
      "outputs": []
    },
    {
      "cell_type": "code",
      "metadata": {
        "id": "G1jvtvJNNa4O",
        "colab_type": "code",
        "colab": {}
      },
      "source": [
        "dataset = MyDataset('train.json')"
      ],
      "execution_count": 0,
      "outputs": []
    },
    {
      "cell_type": "code",
      "metadata": {
        "id": "T9GHeKWPN2R8",
        "colab_type": "code",
        "colab": {}
      },
      "source": [
        "def my_collate_fn(batch):\n",
        "\n",
        "  len_batch = len(batch)\n",
        "\n",
        "  \n",
        "  max_len_history = max([len(data['history']) for data in batch])\n",
        "  max_len_true_sample = max([len(data['true_sample']) for data in batch])\n",
        "  max_len_false_sample = max([len(data['false_sample']) for data in batch])\n",
        "  \n",
        "  padding_ind = 1 ## for bert is 0 but because embedding hate 0!! we used 1\n",
        "  result_history = torch.ones(len_batch, max_len_history)\n",
        "  result_true_sample = torch.ones(len_batch, max_len_true_sample)\n",
        "  result_false_sample = torch.ones(len_batch, max_len_false_sample)\n",
        "\n",
        "  for i, data in enumerate(batch):\n",
        "    p1 = len(data['history'])\n",
        "    result_history[i, :p1] = data['history']\n",
        "    p2 = len(data['true_sample'])\n",
        "    result_true_sample[i, :p2] = data['true_sample']\n",
        "    p3 = len(data['false_sample'])\n",
        "    result_false_sample[i, :p3] = data['false_sample']\n",
        "\n",
        "\n",
        "\n",
        "  return result_history.T.long(), result_true_sample.T.long(), result_false_sample.T.long()\n",
        "\n",
        "sampler = torch.utils.data.SequentialSampler(dataset)\n",
        "dataset_loader = torch.utils.data.DataLoader(dataset, batch_size=32, sampler=sampler,\n",
        "                                             shuffle=False, collate_fn=my_collate_fn)"
      ],
      "execution_count": 0,
      "outputs": []
    },
    {
      "cell_type": "code",
      "metadata": {
        "id": "L4K3dTrGRLc6",
        "colab_type": "code",
        "colab": {}
      },
      "source": [
        "for _, batch in enumerate(dataset_loader):\n",
        "  history, true_sample, false_sample = batch"
      ],
      "execution_count": 0,
      "outputs": []
    },
    {
      "cell_type": "markdown",
      "metadata": {
        "id": "DX-DnRE1oqNe",
        "colab_type": "text"
      },
      "source": [
        "# Model"
      ]
    },
    {
      "cell_type": "code",
      "metadata": {
        "id": "zqsbUH2ZpjkE",
        "colab_type": "code",
        "colab": {}
      },
      "source": [
        "device = torch.device('cuda') if torch.cuda.is_available() else torch.device('cpu')"
      ],
      "execution_count": 0,
      "outputs": []
    },
    {
      "cell_type": "code",
      "metadata": {
        "id": "h82qgzz3pnlz",
        "colab_type": "code",
        "colab": {}
      },
      "source": [
        "import numpy as np\n",
        "import torch.nn as nn\n",
        "\n",
        "class RepresentModel(nn.Module):\n",
        "  \n",
        "  def __init__(self, hid_size, vocab_size, n_head, n_layers, pf_size, max_len, device):\n",
        "    super().__init__()\n",
        "\n",
        "    self.device = device\n",
        "    \n",
        "    self.hid_size = hid_size\n",
        "    self.pf_size = pf_size\n",
        "    self.max_len = max_len\n",
        "    self.n_head = n_head\n",
        "\n",
        "    self.embedding = nn.Embedding(vocab_size, hid_size)\n",
        "\n",
        "    self.position_enc = nn.Embedding(self.max_len, self.hid_size)\n",
        "    self.position_enc.weight.data = self.position_encoding_init(self.max_len, self.hid_size)\n",
        "    self.scale = torch.sqrt(torch.FloatTensor([self.hid_size])).to(device)\n",
        "\n",
        "    self.layer_norm = nn.LayerNorm(self.hid_size)\n",
        "    self.encoder_layer = nn.TransformerEncoderLayer(d_model=hid_size, nhead = n_head, dim_feedforward = pf_size)\n",
        "    self.encoder = nn.TransformerEncoder(self.encoder_layer, num_layers=n_layers, norm=self.layer_norm)\n",
        "\n",
        "    self._init_weights()\n",
        "  \n",
        "  def forward(self, x):\n",
        "    ## x = [sent_len, batch_size]\n",
        "    sent_len, batch_size = x.shape[0], x.shape[1]\n",
        "\n",
        "    temp = x\n",
        "    temp = self.embedding(temp)\n",
        "\n",
        "    pos = torch.arange(1,sent_len+1).unsqueeze(1).repeat(1,batch_size).to(self.device)\n",
        "    temp_pos_emb = self.position_enc(pos)\n",
        "\n",
        "    temp = temp * self.scale + temp_pos_emb\n",
        "    temp = self.encoder(temp)\n",
        "    temp = temp[0,:]\n",
        "    return temp\n",
        "\n",
        "  def _init_weights(self):\n",
        "    for p in self.parameters():\n",
        "      if p.dim() > 1:\n",
        "        nn.init.xavier_uniform_(p)\n",
        "\n",
        "  def append_decoder_layer(self):\n",
        "    appended_mod = nn.TransformerEncoderLayer(d_model=self.hid_size, nhead = self.n_head, dim_feedforward = self.pf_size).to(self.device)\n",
        "    for p in appended_mod.parameters():\n",
        "      if p.dim() > 1:\n",
        "        nn.init.xavier_uniform_(p)\n",
        "    self.encoder.layers.append(appended_mod)\n",
        "    self.encoder.num_layers += 1\n",
        "\n",
        "  \n",
        "  def position_encoding_init(self, n_position, d_pos_vec):\n",
        "    ''' Init the sinusoid position encoding table '''\n",
        "\n",
        "    # keep dim 0 for padding token position encoding zero vector\n",
        "    position_enc = np.array([\n",
        "        [pos / np.power(10000, 2*i/d_pos_vec) for i in range(d_pos_vec)]\n",
        "        if pos != 0 else np.zeros(d_pos_vec) for pos in range(n_position)])\n",
        "\n",
        "    position_enc[1:, 0::2] = np.sin(position_enc[1:, 0::2]) # dim 2i\n",
        "    position_enc[1:, 1::2] = np.cos(position_enc[1:, 1::2]) # dim 2i+1\n",
        "    temp = torch.from_numpy(position_enc).type(torch.FloatTensor)\n",
        "    temp = temp.to(self.device)\n",
        "    return temp"
      ],
      "execution_count": 0,
      "outputs": []
    },
    {
      "cell_type": "code",
      "metadata": {
        "id": "96xP1nkwqBF-",
        "colab_type": "code",
        "colab": {}
      },
      "source": [
        "hid_size = 16\n",
        "vocab_size = 34000 \n",
        "n_head = 8\n",
        "n_layers = 1\n",
        "pf_size = 32\n",
        "max_len = 500\n",
        "model = RepresentModel(hid_size, vocab_size, n_head, n_layers, pf_size, max_len, device).to(device)"
      ],
      "execution_count": 0,
      "outputs": []
    },
    {
      "cell_type": "code",
      "metadata": {
        "id": "WBxaJoPYzKKC",
        "colab_type": "code",
        "outputId": "421d2a38-a9b5-4941-c209-6ae84d88382a",
        "colab": {
          "base_uri": "https://localhost:8080/",
          "height": 35
        }
      },
      "source": [
        "test_len = 20\n",
        "batch_size = 64\n",
        "test_input = torch.LongTensor(test_len, batch_size).random_(1,vocab_size).to(device)\n",
        "model(test_input).shape"
      ],
      "execution_count": 11,
      "outputs": [
        {
          "output_type": "execute_result",
          "data": {
            "text/plain": [
              "torch.Size([64, 16])"
            ]
          },
          "metadata": {
            "tags": []
          },
          "execution_count": 11
        }
      ]
    },
    {
      "cell_type": "code",
      "metadata": {
        "id": "2_2B7BDDzeSb",
        "colab_type": "code",
        "outputId": "542ac3e3-5be2-46a7-e9a2-2231e7af663a",
        "colab": {
          "base_uri": "https://localhost:8080/",
          "height": 35
        }
      },
      "source": [
        "def count_parameters(model):\n",
        "    return sum(p.numel() for p in model.parameters() if p.requires_grad)\n",
        "\n",
        "print(f'The model has {count_parameters(model):,} trainable parameters')"
      ],
      "execution_count": 12,
      "outputs": [
        {
          "output_type": "stream",
          "text": [
            "The model has 556,480 trainable parameters\n"
          ],
          "name": "stdout"
        }
      ]
    },
    {
      "cell_type": "code",
      "metadata": {
        "id": "Q5WcpXG2zuze",
        "colab_type": "code",
        "colab": {}
      },
      "source": [
        "class NoamOpt:\n",
        "    \"Optim wrapper that implements rate.\"\n",
        "    def __init__(self, model_size, factor, warmup, optimizer):\n",
        "        self.optimizer = optimizer\n",
        "        self._step = 0\n",
        "        self.warmup = warmup\n",
        "        self.factor = factor\n",
        "        self.model_size = model_size\n",
        "        self._rate = 0\n",
        "        \n",
        "    def step(self):\n",
        "        \"Update parameters and rate\"\n",
        "        self._step += 1\n",
        "        rate = self.rate()\n",
        "        for p in self.optimizer.param_groups:\n",
        "            p['lr'] = rate\n",
        "        self._rate = rate\n",
        "        self.optimizer.step()\n",
        "        \n",
        "    def rate(self, step = None):\n",
        "        \"Implement `lrate` above\"\n",
        "        if step is None:\n",
        "            step = self._step\n",
        "        return self.factor * \\\n",
        "            (self.model_size ** (-0.5) *\n",
        "            min(step ** (-0.5), step * self.warmup ** (-1.5)))\n",
        "    \n",
        "    def zero_grad(self):\n",
        "        self.optimizer.zero_grad()"
      ],
      "execution_count": 0,
      "outputs": []
    },
    {
      "cell_type": "code",
      "metadata": {
        "id": "LxCNVda75vCN",
        "colab_type": "code",
        "outputId": "158a2452-08e7-43e3-b76f-70a9297be69a",
        "colab": {
          "base_uri": "https://localhost:8080/",
          "height": 269
        }
      },
      "source": [
        "!pip install -U tqdm"
      ],
      "execution_count": 14,
      "outputs": [
        {
          "output_type": "stream",
          "text": [
            "Collecting tqdm\n",
            "\u001b[?25l  Downloading https://files.pythonhosted.org/packages/72/c9/7fc20feac72e79032a7c8138fd0d395dc6d8812b5b9edf53c3afd0b31017/tqdm-4.41.1-py2.py3-none-any.whl (56kB)\n",
            "\r\u001b[K     |█████▊                          | 10kB 31.3MB/s eta 0:00:01\r\u001b[K     |███████████▌                    | 20kB 1.7MB/s eta 0:00:01\r\u001b[K     |█████████████████▎              | 30kB 2.5MB/s eta 0:00:01\r\u001b[K     |███████████████████████         | 40kB 1.7MB/s eta 0:00:01\r\u001b[K     |████████████████████████████▉   | 51kB 2.1MB/s eta 0:00:01\r\u001b[K     |████████████████████████████████| 61kB 2.0MB/s \n",
            "\u001b[?25hInstalling collected packages: tqdm\n",
            "  Found existing installation: tqdm 4.28.1\n",
            "    Uninstalling tqdm-4.28.1:\n",
            "      Successfully uninstalled tqdm-4.28.1\n",
            "Successfully installed tqdm-4.41.1\n"
          ],
          "name": "stdout"
        },
        {
          "output_type": "display_data",
          "data": {
            "application/vnd.colab-display-data+json": {
              "pip_warning": {
                "packages": [
                  "tqdm"
                ]
              }
            }
          },
          "metadata": {
            "tags": []
          }
        }
      ]
    },
    {
      "cell_type": "code",
      "metadata": {
        "id": "FHXTmePhzvs-",
        "colab_type": "code",
        "colab": {}
      },
      "source": [
        "from tqdm.notebook import tqdm\n",
        "\n",
        "def train_one_epoch(model,train_iter, optimizer, criterion, clip):\n",
        "  epoch_loss = 0\n",
        "  model.train()\n",
        "  for batch in tqdm(train_iter):\n",
        "    optimizer.zero_grad()\n",
        "    history, true_sample, false_sample = batch\n",
        "    batch_size = history.shape[1]\n",
        "    ### hist = [sent_len, batch]\n",
        "    history_rpr = model(history.to(device))\n",
        "    true_rpr = model(true_sample.to(device))\n",
        "    false_rpr = model(false_sample.to(device))\n",
        "    ## rpr = [batch_size, hidden]\n",
        "    cos = nn.PairwiseDistance().to(device)\n",
        "    tru_sml = -1*cos(history_rpr, true_rpr)\n",
        "    fls_sml = -1*cos(history_rpr, false_rpr)\n",
        "    mini_batch_tensor = torch.ones(batch_size).to(device)\n",
        "    loss = criterion(tru_sml, fls_sml, mini_batch_tensor)\n",
        "    loss.backward()\n",
        "    torch.nn.utils.clip_grad_norm_(model.parameters(), clip)\n",
        "    optimizer.step()\n",
        "    epoch_loss += loss.item()\n",
        "  return epoch_loss / len(train_iter)"
      ],
      "execution_count": 0,
      "outputs": []
    },
    {
      "cell_type": "code",
      "metadata": {
        "id": "XvL0qeLD1ebH",
        "colab_type": "code",
        "colab": {}
      },
      "source": [
        "def train(model, train_iter, optimizer, criterion, clip, N_EPOCH):\n",
        "  for epoch in range(N_EPOCH):\n",
        "    epoch_loss = train_one_epoch(model, train_iter, optimizer, criterion, clip)\n",
        "    print(epoch_loss)"
      ],
      "execution_count": 0,
      "outputs": []
    },
    {
      "cell_type": "code",
      "metadata": {
        "id": "8QHqzH9x1kL0",
        "colab_type": "code",
        "outputId": "ccd3c674-5562-49dc-cf35-5a084df1d6bc",
        "colab": {
          "base_uri": "https://localhost:8080/",
          "height": 219,
          "referenced_widgets": [
            "0c6f04f1847b4a7a98dc8dba936fad60",
            "6bb8cc0d181c49048ae503fc13e4e664",
            "991c2f094a65472fa3768bef33dd5fb9",
            "461371a687cd4ed0a7dbab6eefc67b03",
            "0a126145644e4f3a98f7fd5abffde41b",
            "5d0018d3711945f2a1a65e201e1f872a",
            "5ad5aa18d5a743e9906509cd1b56e021",
            "6268047305fe4a76876086a804685db6",
            "5223ec01848b48729704c10119ed65de",
            "0d0bce08db4f448cb7d13e8fc17181bf",
            "132d0cc15fb4426e92dc045530cd5c27",
            "0cd97319af74479d98da48a0603f0f0e",
            "dd4aad1d37d646108b18027f3fb5ff54",
            "49e2249411d2463cb1f7803f7da7b5ee",
            "4fac68fade40481a80fcfd5a44bf92d7",
            "964f516b081d48f598fcf104d08df567",
            "603bed6226884ec4a04088f3e9c53e85",
            "54a074194afb49e7b5861ab72469483f",
            "d66a5ce2fa1c41df88b8c91c014515d1",
            "bff3f6b02af1428c8e2df15622383696",
            "0f8fbdfd24064606a31d2f9d9485a1d1",
            "04766ed7f46a480488946c48b6b20741",
            "a11580ecc43b4cb09c7a96729f763f48",
            "961fcab11c564cd098aa40e1257935ca"
          ]
        }
      },
      "source": [
        "optimizer = NoamOpt(hid_size, 1, 2000,\n",
        "              torch.optim.Adam(model.parameters(), lr=0, betas=(0.9, 0.98), eps=1e-9))\n",
        "criterion = torch.nn.MarginRankingLoss(margin=10).to(device)\n",
        "train(model, dataset_loader, optimizer, criterion, 1, 3)"
      ],
      "execution_count": 17,
      "outputs": [
        {
          "output_type": "display_data",
          "data": {
            "application/vnd.jupyter.widget-view+json": {
              "model_id": "0c6f04f1847b4a7a98dc8dba936fad60",
              "version_minor": 0,
              "version_major": 2
            },
            "text/plain": [
              "HBox(children=(FloatProgress(value=0.0, max=77131.0), HTML(value='')))"
            ]
          },
          "metadata": {
            "tags": []
          }
        },
        {
          "output_type": "stream",
          "text": [
            "\n",
            "0.024623903558132484\n"
          ],
          "name": "stdout"
        },
        {
          "output_type": "display_data",
          "data": {
            "application/vnd.jupyter.widget-view+json": {
              "model_id": "5223ec01848b48729704c10119ed65de",
              "version_minor": 0,
              "version_major": 2
            },
            "text/plain": [
              "HBox(children=(FloatProgress(value=0.0, max=77131.0), HTML(value='')))"
            ]
          },
          "metadata": {
            "tags": []
          }
        },
        {
          "output_type": "stream",
          "text": [
            "\n",
            "0.0005637290844247335\n"
          ],
          "name": "stdout"
        },
        {
          "output_type": "display_data",
          "data": {
            "application/vnd.jupyter.widget-view+json": {
              "model_id": "603bed6226884ec4a04088f3e9c53e85",
              "version_minor": 0,
              "version_major": 2
            },
            "text/plain": [
              "HBox(children=(FloatProgress(value=0.0, max=77131.0), HTML(value='')))"
            ]
          },
          "metadata": {
            "tags": []
          }
        },
        {
          "output_type": "stream",
          "text": [
            "\n",
            "0.0005668275891607054\n"
          ],
          "name": "stdout"
        }
      ]
    },
    {
      "cell_type": "code",
      "metadata": {
        "id": "ZYTQX-x_oftQ",
        "colab_type": "code",
        "colab": {}
      },
      "source": [
        "def evaluate(model,valid_iter, criterion):\n",
        "  epoch_loss = 0\n",
        "  model.eval()\n",
        "  for batch in tqdm(valid_iter):\n",
        "    history, true_sample, false_sample = batch\n",
        "    batch_size = history.shape[1]\n",
        "    ### hist = [sent_len, batch]\n",
        "    history_rpr = model(history.to(device))\n",
        "    true_rpr = model(true_sample.to(device))\n",
        "    false_rpr = model(false_sample.to(device))\n",
        "    ## rpr = [batch_size, hidden]\n",
        "    cos = nn.PairwiseDistance().to(device)\n",
        "    tru_sml = -1*cos(history_rpr, true_rpr)\n",
        "    fls_sml = -1*cos(history_rpr, false_rpr)\n",
        "    mini_batch_tensor = torch.ones(batch_size).to(device)\n",
        "    loss = criterion(tru_sml, fls_sml, mini_batch_tensor)\n",
        "    epoch_loss += loss.item()\n",
        "  return epoch_loss / len(valid_iter)"
      ],
      "execution_count": 0,
      "outputs": []
    },
    {
      "cell_type": "code",
      "metadata": {
        "id": "j3PMmgkpou9c",
        "colab_type": "code",
        "colab": {}
      },
      "source": [
        "valid_dataset = MyDataset('/content/drive/My Drive/Thesis/phase-2/valid_tokenized_bert.json')\n",
        "valid_dataset_sampler = torch.utils.data.SequentialSampler(valid_dataset)\n",
        "valid_loader = torch.utils.data.DataLoader(valid_dataset, batch_size=32, sampler=valid_dataset_sampler,\n",
        "                                             shuffle=False, collate_fn=my_collate_fn)"
      ],
      "execution_count": 0,
      "outputs": []
    },
    {
      "cell_type": "code",
      "metadata": {
        "id": "lcRpTRuJtj-D",
        "colab_type": "code",
        "outputId": "99e61961-0261-419a-8636-254076fe17e9",
        "colab": {
          "base_uri": "https://localhost:8080/",
          "height": 84,
          "referenced_widgets": [
            "80c3569dd0f34902b6c8951831b570b8",
            "2699da33070a4f559a16b22f6ea9332b",
            "e9aba0707dab4bf1b1fac2442c62a3c7",
            "4de277ae4f654e188371237039bf8604",
            "2128bd7871a0443cb006cfe67ea10c53",
            "b2ff6b6ad5be4b6f969fa2731c5146c4",
            "33481d9e181b467db949eafd8526d30b",
            "a4a12f2b097b4bcda2ea34353acbf95f"
          ]
        }
      },
      "source": [
        "evaluate(model,valid_loader, criterion)"
      ],
      "execution_count": 25,
      "outputs": [
        {
          "output_type": "display_data",
          "data": {
            "application/vnd.jupyter.widget-view+json": {
              "model_id": "80c3569dd0f34902b6c8951831b570b8",
              "version_minor": 0,
              "version_major": 2
            },
            "text/plain": [
              "HBox(children=(FloatProgress(value=0.0, max=4078.0), HTML(value='')))"
            ]
          },
          "metadata": {
            "tags": []
          }
        },
        {
          "output_type": "stream",
          "text": [
            "\n"
          ],
          "name": "stdout"
        },
        {
          "output_type": "execute_result",
          "data": {
            "text/plain": [
              "0.0023642245491910883"
            ]
          },
          "metadata": {
            "tags": []
          },
          "execution_count": 25
        }
      ]
    },
    {
      "cell_type": "markdown",
      "metadata": {
        "id": "zZb24vf3vaSk",
        "colab_type": "text"
      },
      "source": [
        "# **inference**"
      ]
    },
    {
      "cell_type": "code",
      "metadata": {
        "id": "uy1f9V6Uv2V1",
        "colab_type": "code",
        "outputId": "57111f97-5e92-4453-8e49-6e618938f334",
        "colab": {
          "base_uri": "https://localhost:8080/",
          "height": 622
        }
      },
      "source": [
        "!pip install transformers"
      ],
      "execution_count": 26,
      "outputs": [
        {
          "output_type": "stream",
          "text": [
            "Collecting transformers\n",
            "\u001b[?25l  Downloading https://files.pythonhosted.org/packages/50/10/aeefced99c8a59d828a92cc11d213e2743212d3641c87c82d61b035a7d5c/transformers-2.3.0-py3-none-any.whl (447kB)\n",
            "\r\u001b[K     |▊                               | 10kB 31.0MB/s eta 0:00:01\r\u001b[K     |█▌                              | 20kB 1.7MB/s eta 0:00:01\r\u001b[K     |██▏                             | 30kB 2.5MB/s eta 0:00:01\r\u001b[K     |███                             | 40kB 1.7MB/s eta 0:00:01\r\u001b[K     |███▋                            | 51kB 2.1MB/s eta 0:00:01\r\u001b[K     |████▍                           | 61kB 2.5MB/s eta 0:00:01\r\u001b[K     |█████▏                          | 71kB 2.9MB/s eta 0:00:01\r\u001b[K     |█████▉                          | 81kB 3.3MB/s eta 0:00:01\r\u001b[K     |██████▋                         | 92kB 3.7MB/s eta 0:00:01\r\u001b[K     |███████▎                        | 102kB 2.8MB/s eta 0:00:01\r\u001b[K     |████████                        | 112kB 2.8MB/s eta 0:00:01\r\u001b[K     |████████▉                       | 122kB 2.8MB/s eta 0:00:01\r\u001b[K     |█████████▌                      | 133kB 2.8MB/s eta 0:00:01\r\u001b[K     |██████████▎                     | 143kB 2.8MB/s eta 0:00:01\r\u001b[K     |███████████                     | 153kB 2.8MB/s eta 0:00:01\r\u001b[K     |███████████▊                    | 163kB 2.8MB/s eta 0:00:01\r\u001b[K     |████████████▌                   | 174kB 2.8MB/s eta 0:00:01\r\u001b[K     |█████████████▏                  | 184kB 2.8MB/s eta 0:00:01\r\u001b[K     |██████████████                  | 194kB 2.8MB/s eta 0:00:01\r\u001b[K     |██████████████▋                 | 204kB 2.8MB/s eta 0:00:01\r\u001b[K     |███████████████▍                | 215kB 2.8MB/s eta 0:00:01\r\u001b[K     |████████████████▏               | 225kB 2.8MB/s eta 0:00:01\r\u001b[K     |████████████████▉               | 235kB 2.8MB/s eta 0:00:01\r\u001b[K     |█████████████████▋              | 245kB 2.8MB/s eta 0:00:01\r\u001b[K     |██████████████████▎             | 256kB 2.8MB/s eta 0:00:01\r\u001b[K     |███████████████████             | 266kB 2.8MB/s eta 0:00:01\r\u001b[K     |███████████████████▊            | 276kB 2.8MB/s eta 0:00:01\r\u001b[K     |████████████████████▌           | 286kB 2.8MB/s eta 0:00:01\r\u001b[K     |█████████████████████▎          | 296kB 2.8MB/s eta 0:00:01\r\u001b[K     |██████████████████████          | 307kB 2.8MB/s eta 0:00:01\r\u001b[K     |██████████████████████▊         | 317kB 2.8MB/s eta 0:00:01\r\u001b[K     |███████████████████████▍        | 327kB 2.8MB/s eta 0:00:01\r\u001b[K     |████████████████████████▏       | 337kB 2.8MB/s eta 0:00:01\r\u001b[K     |█████████████████████████       | 348kB 2.8MB/s eta 0:00:01\r\u001b[K     |█████████████████████████▋      | 358kB 2.8MB/s eta 0:00:01\r\u001b[K     |██████████████████████████▍     | 368kB 2.8MB/s eta 0:00:01\r\u001b[K     |███████████████████████████     | 378kB 2.8MB/s eta 0:00:01\r\u001b[K     |███████████████████████████▉    | 389kB 2.8MB/s eta 0:00:01\r\u001b[K     |████████████████████████████▋   | 399kB 2.8MB/s eta 0:00:01\r\u001b[K     |█████████████████████████████▎  | 409kB 2.8MB/s eta 0:00:01\r\u001b[K     |██████████████████████████████  | 419kB 2.8MB/s eta 0:00:01\r\u001b[K     |██████████████████████████████▊ | 430kB 2.8MB/s eta 0:00:01\r\u001b[K     |███████████████████████████████▌| 440kB 2.8MB/s eta 0:00:01\r\u001b[K     |████████████████████████████████| 450kB 2.8MB/s \n",
            "\u001b[?25hRequirement already satisfied: tqdm in /usr/local/lib/python3.6/dist-packages (from transformers) (4.41.1)\n",
            "Requirement already satisfied: numpy in /usr/local/lib/python3.6/dist-packages (from transformers) (1.17.4)\n",
            "Collecting sentencepiece\n",
            "\u001b[?25l  Downloading https://files.pythonhosted.org/packages/74/f4/2d5214cbf13d06e7cb2c20d84115ca25b53ea76fa1f0ade0e3c9749de214/sentencepiece-0.1.85-cp36-cp36m-manylinux1_x86_64.whl (1.0MB)\n",
            "\r\u001b[K     |▎                               | 10kB 27.1MB/s eta 0:00:01\r\u001b[K     |▋                               | 20kB 36.7MB/s eta 0:00:01\r\u001b[K     |█                               | 30kB 44.2MB/s eta 0:00:01\r\u001b[K     |█▎                              | 40kB 46.7MB/s eta 0:00:01\r\u001b[K     |█▋                              | 51kB 50.1MB/s eta 0:00:01\r\u001b[K     |██                              | 61kB 53.0MB/s eta 0:00:01\r\u001b[K     |██▏                             | 71kB 54.6MB/s eta 0:00:01\r\u001b[K     |██▌                             | 81kB 55.7MB/s eta 0:00:01\r\u001b[K     |██▉                             | 92kB 57.0MB/s eta 0:00:01\r\u001b[K     |███▏                            | 102kB 58.0MB/s eta 0:00:01\r\u001b[K     |███▌                            | 112kB 58.0MB/s eta 0:00:01\r\u001b[K     |███▉                            | 122kB 58.0MB/s eta 0:00:01\r\u001b[K     |████                            | 133kB 58.0MB/s eta 0:00:01\r\u001b[K     |████▍                           | 143kB 58.0MB/s eta 0:00:01\r\u001b[K     |████▊                           | 153kB 58.0MB/s eta 0:00:01\r\u001b[K     |█████                           | 163kB 58.0MB/s eta 0:00:01\r\u001b[K     |█████▍                          | 174kB 58.0MB/s eta 0:00:01\r\u001b[K     |█████▊                          | 184kB 58.0MB/s eta 0:00:01\r\u001b[K     |██████                          | 194kB 58.0MB/s eta 0:00:01\r\u001b[K     |██████▎                         | 204kB 58.0MB/s eta 0:00:01\r\u001b[K     |██████▋                         | 215kB 58.0MB/s eta 0:00:01\r\u001b[K     |███████                         | 225kB 58.0MB/s eta 0:00:01\r\u001b[K     |███████▎                        | 235kB 58.0MB/s eta 0:00:01\r\u001b[K     |███████▋                        | 245kB 58.0MB/s eta 0:00:01\r\u001b[K     |███████▉                        | 256kB 58.0MB/s eta 0:00:01\r\u001b[K     |████████▏                       | 266kB 58.0MB/s eta 0:00:01\r\u001b[K     |████████▌                       | 276kB 58.0MB/s eta 0:00:01\r\u001b[K     |████████▉                       | 286kB 58.0MB/s eta 0:00:01\r\u001b[K     |█████████▏                      | 296kB 58.0MB/s eta 0:00:01\r\u001b[K     |█████████▌                      | 307kB 58.0MB/s eta 0:00:01\r\u001b[K     |█████████▊                      | 317kB 58.0MB/s eta 0:00:01\r\u001b[K     |██████████                      | 327kB 58.0MB/s eta 0:00:01\r\u001b[K     |██████████▍                     | 337kB 58.0MB/s eta 0:00:01\r\u001b[K     |██████████▊                     | 348kB 58.0MB/s eta 0:00:01\r\u001b[K     |███████████                     | 358kB 58.0MB/s eta 0:00:01\r\u001b[K     |███████████▍                    | 368kB 58.0MB/s eta 0:00:01\r\u001b[K     |███████████▋                    | 378kB 58.0MB/s eta 0:00:01\r\u001b[K     |████████████                    | 389kB 58.0MB/s eta 0:00:01\r\u001b[K     |████████████▎                   | 399kB 58.0MB/s eta 0:00:01\r\u001b[K     |████████████▋                   | 409kB 58.0MB/s eta 0:00:01\r\u001b[K     |█████████████                   | 419kB 58.0MB/s eta 0:00:01\r\u001b[K     |█████████████▎                  | 430kB 58.0MB/s eta 0:00:01\r\u001b[K     |█████████████▌                  | 440kB 58.0MB/s eta 0:00:01\r\u001b[K     |█████████████▉                  | 450kB 58.0MB/s eta 0:00:01\r\u001b[K     |██████████████▏                 | 460kB 58.0MB/s eta 0:00:01\r\u001b[K     |██████████████▌                 | 471kB 58.0MB/s eta 0:00:01\r\u001b[K     |██████████████▉                 | 481kB 58.0MB/s eta 0:00:01\r\u001b[K     |███████████████▏                | 491kB 58.0MB/s eta 0:00:01\r\u001b[K     |███████████████▍                | 501kB 58.0MB/s eta 0:00:01\r\u001b[K     |███████████████▊                | 512kB 58.0MB/s eta 0:00:01\r\u001b[K     |████████████████                | 522kB 58.0MB/s eta 0:00:01\r\u001b[K     |████████████████▍               | 532kB 58.0MB/s eta 0:00:01\r\u001b[K     |████████████████▊               | 542kB 58.0MB/s eta 0:00:01\r\u001b[K     |█████████████████               | 552kB 58.0MB/s eta 0:00:01\r\u001b[K     |█████████████████▎              | 563kB 58.0MB/s eta 0:00:01\r\u001b[K     |█████████████████▋              | 573kB 58.0MB/s eta 0:00:01\r\u001b[K     |██████████████████              | 583kB 58.0MB/s eta 0:00:01\r\u001b[K     |██████████████████▎             | 593kB 58.0MB/s eta 0:00:01\r\u001b[K     |██████████████████▋             | 604kB 58.0MB/s eta 0:00:01\r\u001b[K     |███████████████████             | 614kB 58.0MB/s eta 0:00:01\r\u001b[K     |███████████████████▏            | 624kB 58.0MB/s eta 0:00:01\r\u001b[K     |███████████████████▌            | 634kB 58.0MB/s eta 0:00:01\r\u001b[K     |███████████████████▉            | 645kB 58.0MB/s eta 0:00:01\r\u001b[K     |████████████████████▏           | 655kB 58.0MB/s eta 0:00:01\r\u001b[K     |████████████████████▌           | 665kB 58.0MB/s eta 0:00:01\r\u001b[K     |████████████████████▉           | 675kB 58.0MB/s eta 0:00:01\r\u001b[K     |█████████████████████▏          | 686kB 58.0MB/s eta 0:00:01\r\u001b[K     |█████████████████████▍          | 696kB 58.0MB/s eta 0:00:01\r\u001b[K     |█████████████████████▊          | 706kB 58.0MB/s eta 0:00:01\r\u001b[K     |██████████████████████          | 716kB 58.0MB/s eta 0:00:01\r\u001b[K     |██████████████████████▍         | 727kB 58.0MB/s eta 0:00:01\r\u001b[K     |██████████████████████▊         | 737kB 58.0MB/s eta 0:00:01\r\u001b[K     |███████████████████████         | 747kB 58.0MB/s eta 0:00:01\r\u001b[K     |███████████████████████▎        | 757kB 58.0MB/s eta 0:00:01\r\u001b[K     |███████████████████████▋        | 768kB 58.0MB/s eta 0:00:01\r\u001b[K     |████████████████████████        | 778kB 58.0MB/s eta 0:00:01\r\u001b[K     |████████████████████████▎       | 788kB 58.0MB/s eta 0:00:01\r\u001b[K     |████████████████████████▋       | 798kB 58.0MB/s eta 0:00:01\r\u001b[K     |█████████████████████████       | 808kB 58.0MB/s eta 0:00:01\r\u001b[K     |█████████████████████████▏      | 819kB 58.0MB/s eta 0:00:01\r\u001b[K     |█████████████████████████▌      | 829kB 58.0MB/s eta 0:00:01\r\u001b[K     |█████████████████████████▉      | 839kB 58.0MB/s eta 0:00:01\r\u001b[K     |██████████████████████████▏     | 849kB 58.0MB/s eta 0:00:01\r\u001b[K     |██████████████████████████▌     | 860kB 58.0MB/s eta 0:00:01\r\u001b[K     |██████████████████████████▉     | 870kB 58.0MB/s eta 0:00:01\r\u001b[K     |███████████████████████████     | 880kB 58.0MB/s eta 0:00:01\r\u001b[K     |███████████████████████████▍    | 890kB 58.0MB/s eta 0:00:01\r\u001b[K     |███████████████████████████▊    | 901kB 58.0MB/s eta 0:00:01\r\u001b[K     |████████████████████████████    | 911kB 58.0MB/s eta 0:00:01\r\u001b[K     |████████████████████████████▍   | 921kB 58.0MB/s eta 0:00:01\r\u001b[K     |████████████████████████████▊   | 931kB 58.0MB/s eta 0:00:01\r\u001b[K     |█████████████████████████████   | 942kB 58.0MB/s eta 0:00:01\r\u001b[K     |█████████████████████████████▎  | 952kB 58.0MB/s eta 0:00:01\r\u001b[K     |█████████████████████████████▋  | 962kB 58.0MB/s eta 0:00:01\r\u001b[K     |██████████████████████████████  | 972kB 58.0MB/s eta 0:00:01\r\u001b[K     |██████████████████████████████▎ | 983kB 58.0MB/s eta 0:00:01\r\u001b[K     |██████████████████████████████▋ | 993kB 58.0MB/s eta 0:00:01\r\u001b[K     |██████████████████████████████▉ | 1.0MB 58.0MB/s eta 0:00:01\r\u001b[K     |███████████████████████████████▏| 1.0MB 58.0MB/s eta 0:00:01\r\u001b[K     |███████████████████████████████▌| 1.0MB 58.0MB/s eta 0:00:01\r\u001b[K     |███████████████████████████████▉| 1.0MB 58.0MB/s eta 0:00:01\r\u001b[K     |████████████████████████████████| 1.0MB 58.0MB/s \n",
            "\u001b[?25hRequirement already satisfied: boto3 in /usr/local/lib/python3.6/dist-packages (from transformers) (1.10.40)\n",
            "Collecting sacremoses\n",
            "\u001b[?25l  Downloading https://files.pythonhosted.org/packages/a6/b4/7a41d630547a4afd58143597d5a49e07bfd4c42914d8335b2a5657efc14b/sacremoses-0.0.38.tar.gz (860kB)\n",
            "\r\u001b[K     |▍                               | 10kB 27.2MB/s eta 0:00:01\r\u001b[K     |▊                               | 20kB 32.0MB/s eta 0:00:01\r\u001b[K     |█▏                              | 30kB 37.8MB/s eta 0:00:01\r\u001b[K     |█▌                              | 40kB 40.7MB/s eta 0:00:01\r\u001b[K     |██                              | 51kB 42.8MB/s eta 0:00:01\r\u001b[K     |██▎                             | 61kB 45.0MB/s eta 0:00:01\r\u001b[K     |██▋                             | 71kB 45.4MB/s eta 0:00:01\r\u001b[K     |███                             | 81kB 47.1MB/s eta 0:00:01\r\u001b[K     |███▍                            | 92kB 49.3MB/s eta 0:00:01\r\u001b[K     |███▉                            | 102kB 51.3MB/s eta 0:00:01\r\u001b[K     |████▏                           | 112kB 51.3MB/s eta 0:00:01\r\u001b[K     |████▋                           | 122kB 51.3MB/s eta 0:00:01\r\u001b[K     |█████                           | 133kB 51.3MB/s eta 0:00:01\r\u001b[K     |█████▎                          | 143kB 51.3MB/s eta 0:00:01\r\u001b[K     |█████▊                          | 153kB 51.3MB/s eta 0:00:01\r\u001b[K     |██████                          | 163kB 51.3MB/s eta 0:00:01\r\u001b[K     |██████▌                         | 174kB 51.3MB/s eta 0:00:01\r\u001b[K     |██████▉                         | 184kB 51.3MB/s eta 0:00:01\r\u001b[K     |███████▎                        | 194kB 51.3MB/s eta 0:00:01\r\u001b[K     |███████▋                        | 204kB 51.3MB/s eta 0:00:01\r\u001b[K     |████████                        | 215kB 51.3MB/s eta 0:00:01\r\u001b[K     |████████▍                       | 225kB 51.3MB/s eta 0:00:01\r\u001b[K     |████████▊                       | 235kB 51.3MB/s eta 0:00:01\r\u001b[K     |█████████▏                      | 245kB 51.3MB/s eta 0:00:01\r\u001b[K     |█████████▌                      | 256kB 51.3MB/s eta 0:00:01\r\u001b[K     |██████████                      | 266kB 51.3MB/s eta 0:00:01\r\u001b[K     |██████████▎                     | 276kB 51.3MB/s eta 0:00:01\r\u001b[K     |██████████▋                     | 286kB 51.3MB/s eta 0:00:01\r\u001b[K     |███████████                     | 296kB 51.3MB/s eta 0:00:01\r\u001b[K     |███████████▍                    | 307kB 51.3MB/s eta 0:00:01\r\u001b[K     |███████████▉                    | 317kB 51.3MB/s eta 0:00:01\r\u001b[K     |████████████▏                   | 327kB 51.3MB/s eta 0:00:01\r\u001b[K     |████████████▋                   | 337kB 51.3MB/s eta 0:00:01\r\u001b[K     |█████████████                   | 348kB 51.3MB/s eta 0:00:01\r\u001b[K     |█████████████▎                  | 358kB 51.3MB/s eta 0:00:01\r\u001b[K     |█████████████▊                  | 368kB 51.3MB/s eta 0:00:01\r\u001b[K     |██████████████                  | 378kB 51.3MB/s eta 0:00:01\r\u001b[K     |██████████████▌                 | 389kB 51.3MB/s eta 0:00:01\r\u001b[K     |██████████████▉                 | 399kB 51.3MB/s eta 0:00:01\r\u001b[K     |███████████████▎                | 409kB 51.3MB/s eta 0:00:01\r\u001b[K     |███████████████▋                | 419kB 51.3MB/s eta 0:00:01\r\u001b[K     |████████████████                | 430kB 51.3MB/s eta 0:00:01\r\u001b[K     |████████████████▍               | 440kB 51.3MB/s eta 0:00:01\r\u001b[K     |████████████████▊               | 450kB 51.3MB/s eta 0:00:01\r\u001b[K     |█████████████████▏              | 460kB 51.3MB/s eta 0:00:01\r\u001b[K     |█████████████████▌              | 471kB 51.3MB/s eta 0:00:01\r\u001b[K     |██████████████████              | 481kB 51.3MB/s eta 0:00:01\r\u001b[K     |██████████████████▎             | 491kB 51.3MB/s eta 0:00:01\r\u001b[K     |██████████████████▋             | 501kB 51.3MB/s eta 0:00:01\r\u001b[K     |███████████████████             | 512kB 51.3MB/s eta 0:00:01\r\u001b[K     |███████████████████▍            | 522kB 51.3MB/s eta 0:00:01\r\u001b[K     |███████████████████▉            | 532kB 51.3MB/s eta 0:00:01\r\u001b[K     |████████████████████▏           | 542kB 51.3MB/s eta 0:00:01\r\u001b[K     |████████████████████▋           | 552kB 51.3MB/s eta 0:00:01\r\u001b[K     |█████████████████████           | 563kB 51.3MB/s eta 0:00:01\r\u001b[K     |█████████████████████▎          | 573kB 51.3MB/s eta 0:00:01\r\u001b[K     |█████████████████████▊          | 583kB 51.3MB/s eta 0:00:01\r\u001b[K     |██████████████████████          | 593kB 51.3MB/s eta 0:00:01\r\u001b[K     |██████████████████████▌         | 604kB 51.3MB/s eta 0:00:01\r\u001b[K     |██████████████████████▉         | 614kB 51.3MB/s eta 0:00:01\r\u001b[K     |███████████████████████▏        | 624kB 51.3MB/s eta 0:00:01\r\u001b[K     |███████████████████████▋        | 634kB 51.3MB/s eta 0:00:01\r\u001b[K     |████████████████████████        | 645kB 51.3MB/s eta 0:00:01\r\u001b[K     |████████████████████████▍       | 655kB 51.3MB/s eta 0:00:01\r\u001b[K     |████████████████████████▊       | 665kB 51.3MB/s eta 0:00:01\r\u001b[K     |█████████████████████████▏      | 675kB 51.3MB/s eta 0:00:01\r\u001b[K     |█████████████████████████▌      | 686kB 51.3MB/s eta 0:00:01\r\u001b[K     |█████████████████████████▉      | 696kB 51.3MB/s eta 0:00:01\r\u001b[K     |██████████████████████████▎     | 706kB 51.3MB/s eta 0:00:01\r\u001b[K     |██████████████████████████▋     | 716kB 51.3MB/s eta 0:00:01\r\u001b[K     |███████████████████████████     | 727kB 51.3MB/s eta 0:00:01\r\u001b[K     |███████████████████████████▍    | 737kB 51.3MB/s eta 0:00:01\r\u001b[K     |███████████████████████████▉    | 747kB 51.3MB/s eta 0:00:01\r\u001b[K     |████████████████████████████▏   | 757kB 51.3MB/s eta 0:00:01\r\u001b[K     |████████████████████████████▌   | 768kB 51.3MB/s eta 0:00:01\r\u001b[K     |█████████████████████████████   | 778kB 51.3MB/s eta 0:00:01\r\u001b[K     |█████████████████████████████▎  | 788kB 51.3MB/s eta 0:00:01\r\u001b[K     |█████████████████████████████▊  | 798kB 51.3MB/s eta 0:00:01\r\u001b[K     |██████████████████████████████  | 808kB 51.3MB/s eta 0:00:01\r\u001b[K     |██████████████████████████████▌ | 819kB 51.3MB/s eta 0:00:01\r\u001b[K     |██████████████████████████████▉ | 829kB 51.3MB/s eta 0:00:01\r\u001b[K     |███████████████████████████████▏| 839kB 51.3MB/s eta 0:00:01\r\u001b[K     |███████████████████████████████▋| 849kB 51.3MB/s eta 0:00:01\r\u001b[K     |████████████████████████████████| 860kB 51.3MB/s eta 0:00:01\r\u001b[K     |████████████████████████████████| 870kB 51.3MB/s \n",
            "\u001b[?25hRequirement already satisfied: requests in /usr/local/lib/python3.6/dist-packages (from transformers) (2.21.0)\n",
            "Requirement already satisfied: regex!=2019.12.17 in /usr/local/lib/python3.6/dist-packages (from transformers) (2019.12.9)\n",
            "Requirement already satisfied: s3transfer<0.3.0,>=0.2.0 in /usr/local/lib/python3.6/dist-packages (from boto3->transformers) (0.2.1)\n",
            "Requirement already satisfied: jmespath<1.0.0,>=0.7.1 in /usr/local/lib/python3.6/dist-packages (from boto3->transformers) (0.9.4)\n",
            "Requirement already satisfied: botocore<1.14.0,>=1.13.40 in /usr/local/lib/python3.6/dist-packages (from boto3->transformers) (1.13.40)\n",
            "Requirement already satisfied: six in /usr/local/lib/python3.6/dist-packages (from sacremoses->transformers) (1.12.0)\n",
            "Requirement already satisfied: click in /usr/local/lib/python3.6/dist-packages (from sacremoses->transformers) (7.0)\n",
            "Requirement already satisfied: joblib in /usr/local/lib/python3.6/dist-packages (from sacremoses->transformers) (0.14.1)\n",
            "Requirement already satisfied: idna<2.9,>=2.5 in /usr/local/lib/python3.6/dist-packages (from requests->transformers) (2.8)\n",
            "Requirement already satisfied: chardet<3.1.0,>=3.0.2 in /usr/local/lib/python3.6/dist-packages (from requests->transformers) (3.0.4)\n",
            "Requirement already satisfied: urllib3<1.25,>=1.21.1 in /usr/local/lib/python3.6/dist-packages (from requests->transformers) (1.24.3)\n",
            "Requirement already satisfied: certifi>=2017.4.17 in /usr/local/lib/python3.6/dist-packages (from requests->transformers) (2019.11.28)\n",
            "Requirement already satisfied: docutils<0.16,>=0.10 in /usr/local/lib/python3.6/dist-packages (from botocore<1.14.0,>=1.13.40->boto3->transformers) (0.15.2)\n",
            "Requirement already satisfied: python-dateutil<2.8.1,>=2.1; python_version >= \"2.7\" in /usr/local/lib/python3.6/dist-packages (from botocore<1.14.0,>=1.13.40->boto3->transformers) (2.6.1)\n",
            "Building wheels for collected packages: sacremoses\n",
            "  Building wheel for sacremoses (setup.py) ... \u001b[?25l\u001b[?25hdone\n",
            "  Created wheel for sacremoses: filename=sacremoses-0.0.38-cp36-none-any.whl size=884629 sha256=9bfad7cd36cf5d2f76ef1df792f3845594773fb4092898357a043cc26e09e2e5\n",
            "  Stored in directory: /root/.cache/pip/wheels/6d/ec/1a/21b8912e35e02741306f35f66c785f3afe94de754a0eaf1422\n",
            "Successfully built sacremoses\n",
            "Installing collected packages: sentencepiece, sacremoses, transformers\n",
            "Successfully installed sacremoses-0.0.38 sentencepiece-0.1.85 transformers-2.3.0\n"
          ],
          "name": "stdout"
        }
      ]
    },
    {
      "cell_type": "code",
      "metadata": {
        "id": "w6xPBeMWv7R8",
        "colab_type": "code",
        "outputId": "18445343-302c-4ced-9bab-afc58e1e0cf2",
        "colab": {
          "base_uri": "https://localhost:8080/",
          "height": 81
        }
      },
      "source": [
        "from transformers import BertTokenizer\n",
        "tokenizer = BertTokenizer.from_pretrained('bert-base-uncased')"
      ],
      "execution_count": 27,
      "outputs": [
        {
          "output_type": "display_data",
          "data": {
            "text/html": [
              "<p style=\"color: red;\">\n",
              "The default version of TensorFlow in Colab will soon switch to TensorFlow 2.x.<br>\n",
              "We recommend you <a href=\"https://www.tensorflow.org/guide/migrate\" target=\"_blank\">upgrade</a> now \n",
              "or ensure your notebook will continue to use TensorFlow 1.x via the <code>%tensorflow_version 1.x</code> magic:\n",
              "<a href=\"https://colab.research.google.com/notebooks/tensorflow_version.ipynb\" target=\"_blank\">more info</a>.</p>\n"
            ],
            "text/plain": [
              "<IPython.core.display.HTML object>"
            ]
          },
          "metadata": {
            "tags": []
          }
        }
      ]
    },
    {
      "cell_type": "code",
      "metadata": {
        "id": "xd0pRpSsu2z4",
        "colab_type": "code",
        "colab": {}
      },
      "source": [
        "history = [\"What are numbers greater than 1 that can be divided by 3 or more numbers called?\", \n",
        "           ]\n",
        "sentences = [\"A prime number (or a prime) is a natural number greater than 1 that has no positive divisors other than 1 and itself\",\n",
        "             \"A natural number greater than 1 that is not a prime number is called a composite number\",\n",
        "             \"For example, 5 is prime because 1 and 5 are its only positive integer factors, whereas 6 is composite because it has the divisors 2 and 3 in addition to 1 and 6\"]"
      ],
      "execution_count": 0,
      "outputs": []
    },
    {
      "cell_type": "code",
      "metadata": {
        "id": "aZBUYrEewRfu",
        "colab_type": "code",
        "colab": {}
      },
      "source": [
        "def text_to_idslist(text):\n",
        "  '''\n",
        "  get text, add [SEP] and [CLS] to it and returns it as indices list\n",
        "  '''\n",
        "  text = str(text)\n",
        "  text = \"[CLS] \" + text + \" [SEP]\"\n",
        "  return tokenizer.convert_tokens_to_ids(tokenizer.tokenize(text))"
      ],
      "execution_count": 0,
      "outputs": []
    },
    {
      "cell_type": "code",
      "metadata": {
        "id": "04ipDo-O7Ebm",
        "colab_type": "code",
        "colab": {}
      },
      "source": [
        "def history_to_idslist(history: []):\n",
        "  '''\n",
        "  get list of history texts and return one 1d list of indices.\n",
        "  '''\n",
        "  temp = ' [SEP] '.join(history)\n",
        "  temp = ' [CLS] ' + temp + ' [SEP] '\n",
        "  return tokenizer.convert_tokens_to_ids(tokenizer.tokenize(temp))"
      ],
      "execution_count": 0,
      "outputs": []
    },
    {
      "cell_type": "code",
      "metadata": {
        "id": "SAVW2nGE9dNh",
        "colab_type": "code",
        "outputId": "6acc85fb-e673-446a-944c-1d309eedb9b1",
        "colab": {
          "base_uri": "https://localhost:8080/",
          "height": 35
        }
      },
      "source": [
        "temp = history_to_idslist(history)\n",
        "temp = torch.LongTensor(temp)\n",
        "temp = temp.unsqueeze(1)\n",
        "temp.shape"
      ],
      "execution_count": 37,
      "outputs": [
        {
          "output_type": "execute_result",
          "data": {
            "text/plain": [
              "torch.Size([19, 1])"
            ]
          },
          "metadata": {
            "tags": []
          },
          "execution_count": 37
        }
      ]
    },
    {
      "cell_type": "code",
      "metadata": {
        "id": "0iHNugw7ckF1",
        "colab_type": "code",
        "colab": {}
      },
      "source": [
        "def similarity(model, history, sentence):\n",
        "  history_tensor = torch.LongTensor(history_to_idslist(history)).unsqueeze(1)\n",
        "  sentence_tensor = torch.LongTensor(text_to_idslist(sentence)).unsqueeze(1)\n",
        "  history_tensor = history_tensor.to(device)\n",
        "  sentence_tensor = sentence_tensor.to(device)\n",
        "  # history_tensor = [sent_len, 1]\n",
        "  # sentence_tensor = [sent_len, num_sentences]\n",
        "  model.eval()\n",
        "  hst_rpr = model(history_tensor) ## hst_rpr = [1, hidden]\n",
        "  snt_rpr = model(sentence_tensor) ## snt_rpr = [1, hidden]\n",
        "  cos = nn.PairwiseDistance()\n",
        "  similarity = -1*cos(hst_rpr, snt_rpr).item()\n",
        "  return(similarity)\n",
        "\n",
        "  "
      ],
      "execution_count": 0,
      "outputs": []
    },
    {
      "cell_type": "code",
      "metadata": {
        "id": "q-AAiWRUGHO2",
        "colab_type": "code",
        "outputId": "35eaa0ce-7b3d-49e0-c822-1e5c78fc4792",
        "colab": {
          "base_uri": "https://localhost:8080/",
          "height": 70
        }
      },
      "source": [
        "print(similarity(model, history, sentences[0]))\n",
        "print(similarity(model, history, sentences[1]))\n",
        "print(similarity(model, history, sentences[2]))"
      ],
      "execution_count": 39,
      "outputs": [
        {
          "output_type": "stream",
          "text": [
            "-25.394800186157227\n",
            "-10.739778518676758\n",
            "-33.18402862548828\n"
          ],
          "name": "stdout"
        }
      ]
    }
  ]
}