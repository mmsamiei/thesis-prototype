{
  "nbformat": 4,
  "nbformat_minor": 0,
  "metadata": {
    "colab": {
      "name": "data_loading_phase2.ipynb",
      "provenance": [],
      "collapsed_sections": [],
      "include_colab_link": true
    },
    "kernelspec": {
      "name": "python3",
      "display_name": "Python 3"
    },
    "accelerator": "GPU"
  },
  "cells": [
    {
      "cell_type": "markdown",
      "metadata": {
        "id": "view-in-github",
        "colab_type": "text"
      },
      "source": [
        "<a href=\"https://colab.research.google.com/github/mmsamiei/thesis-prototype/blob/master/data_loading_phase2.ipynb\" target=\"_parent\"><img src=\"https://colab.research.google.com/assets/colab-badge.svg\" alt=\"Open In Colab\"/></a>"
      ]
    },
    {
      "cell_type": "code",
      "metadata": {
        "id": "Z34IzmeS7Bd6",
        "colab_type": "code",
        "colab": {
          "base_uri": "https://localhost:8080/",
          "height": 55
        },
        "outputId": "f1b93cba-70ee-4ac5-ea49-453247c76f92"
      },
      "source": [
        "from google.colab import drive\n",
        "drive.mount('/content/drive')"
      ],
      "execution_count": 2,
      "outputs": [
        {
          "output_type": "stream",
          "text": [
            "Drive already mounted at /content/drive; to attempt to forcibly remount, call drive.mount(\"/content/drive\", force_remount=True).\n"
          ],
          "name": "stdout"
        }
      ]
    },
    {
      "cell_type": "code",
      "metadata": {
        "id": "8fO-sYWD7RBQ",
        "colab_type": "code",
        "colab": {}
      },
      "source": [
        "!cp /content/drive/My\\ Drive/Thesis/phase-2/tokenized_test.json /content/train.json"
      ],
      "execution_count": 0,
      "outputs": []
    },
    {
      "cell_type": "code",
      "metadata": {
        "id": "K2dAoag47ZOI",
        "colab_type": "code",
        "colab": {}
      },
      "source": [
        "from torch.utils.data import Dataset, DataLoader\n",
        "import os\n",
        "import torch\n",
        "from PIL import Image\n",
        "import json\n",
        "from torch.utils.data.sampler import SubsetRandomSampler"
      ],
      "execution_count": 0,
      "outputs": []
    },
    {
      "cell_type": "code",
      "metadata": {
        "id": "snE8o32EMaO_",
        "colab_type": "code",
        "colab": {}
      },
      "source": [
        "class MyDataset(Dataset):\n",
        "    \"\"\"My dataset.\"\"\"\n",
        "\n",
        "    def __init__(self, json_file):\n",
        "        \"\"\"\n",
        "        Args:\n",
        "            json_file (string): Path to the json file with annotations.\n",
        "        \"\"\"\n",
        "        self.dialogues = json.load(open(json_file))\n",
        "        self.root_dir = json_file\n",
        "\n",
        "    def __len__(self):\n",
        "        return len(self.dialogues)\n",
        "\n",
        "    def __getitem__(self, idx):\n",
        "      \n",
        "        if torch.is_tensor(idx):\n",
        "            idx = idx.tolist()\n",
        "\n",
        "        history = torch.LongTensor(self.dialogues[idx]['history'])\n",
        "        true_sample = torch.LongTensor(self.dialogues[idx]['true_sentence'])\n",
        "        false_sample = torch.LongTensor(self.dialogues[idx]['false_sentenc'])\n",
        "\n",
        "        sample = {'history': history, 'true_sample': true_sample, 'false_sample': false_sample}\n",
        "\n",
        "        return sample"
      ],
      "execution_count": 0,
      "outputs": []
    },
    {
      "cell_type": "code",
      "metadata": {
        "id": "G1jvtvJNNa4O",
        "colab_type": "code",
        "colab": {}
      },
      "source": [
        "dataset = MyDataset('train.json')"
      ],
      "execution_count": 0,
      "outputs": []
    },
    {
      "cell_type": "code",
      "metadata": {
        "id": "T9GHeKWPN2R8",
        "colab_type": "code",
        "colab": {
          "base_uri": "https://localhost:8080/",
          "height": 194
        },
        "outputId": "05d5f7e5-9181-4749-abc7-749b34269ee1"
      },
      "source": [
        "dataset[100]"
      ],
      "execution_count": 74,
      "outputs": [
        {
          "output_type": "execute_result",
          "data": {
            "text/plain": [
              "{'false_sample': tensor([  101,  2105,  4444,  1010,  1996,  2034,  6742,  4942,  6494, 15277,\n",
              "          3609,  6194,  2020,  3107,  1012,   102]),\n",
              " 'history': tensor([  101,  7632,  8937,  1010,  2054,  2017,  2228,  2055, 16434,   102]),\n",
              " 'true_sample': tensor([  101,  1063,  1005,  4217,  1035, 16434,  1035,  1014,  1005,  1024,\n",
              "          1005, 16434,  1006,  2036,  2170,  1000,  3257,  1997,  5855,  1000,\n",
              "          1007,  2003,  1996,  2671,  2030,  2396,  1997,  4367,  1011,  3861,\n",
              "          5855,  2011,  3405,  2422,  2030,  2060, 17225,  8249,  1010,  2593,\n",
              "         28926,  2011,  2965,  1997,  2019,  3746, 13617,  1010,  2030,  5072,\n",
              "          2135,  2011,  2965,  1997,  1037,  2422,  1011,  7591,  3430,  2107,\n",
              "          2004,  2143,  4518,  1012,  1005,  1065,   102])}"
            ]
          },
          "metadata": {
            "tags": []
          },
          "execution_count": 74
        }
      ]
    }
  ]
}