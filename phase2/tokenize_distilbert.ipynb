{
  "nbformat": 4,
  "nbformat_minor": 0,
  "metadata": {
    "colab": {
      "name": "Untitled114.ipynb",
      "provenance": [],
      "authorship_tag": "ABX9TyNSLL/KtD9feUHvmRPwrqEx",
      "include_colab_link": true
    },
    "kernelspec": {
      "name": "python3",
      "display_name": "Python 3"
    },
    "widgets": {
      "application/vnd.jupyter.widget-state+json": {
        "34bbc706296347038d9e986d72050fed": {
          "model_module": "@jupyter-widgets/controls",
          "model_name": "HBoxModel",
          "state": {
            "_view_name": "HBoxView",
            "_dom_classes": [],
            "_model_name": "HBoxModel",
            "_view_module": "@jupyter-widgets/controls",
            "_model_module_version": "1.5.0",
            "_view_count": null,
            "_view_module_version": "1.5.0",
            "box_style": "",
            "layout": "IPY_MODEL_080f20c3783f45e4ae8cb1dd34bacdd5",
            "_model_module": "@jupyter-widgets/controls",
            "children": [
              "IPY_MODEL_ab1c1dadb0c944ed80fbc1d5f81e858d",
              "IPY_MODEL_d6772b1bdbd64026ad89b2d283535ad5"
            ]
          }
        },
        "080f20c3783f45e4ae8cb1dd34bacdd5": {
          "model_module": "@jupyter-widgets/base",
          "model_name": "LayoutModel",
          "state": {
            "_view_name": "LayoutView",
            "grid_template_rows": null,
            "right": null,
            "justify_content": null,
            "_view_module": "@jupyter-widgets/base",
            "overflow": null,
            "_model_module_version": "1.2.0",
            "_view_count": null,
            "flex_flow": null,
            "width": null,
            "min_width": null,
            "border": null,
            "align_items": null,
            "bottom": null,
            "_model_module": "@jupyter-widgets/base",
            "top": null,
            "grid_column": null,
            "overflow_y": null,
            "overflow_x": null,
            "grid_auto_flow": null,
            "grid_area": null,
            "grid_template_columns": null,
            "flex": null,
            "_model_name": "LayoutModel",
            "justify_items": null,
            "grid_row": null,
            "max_height": null,
            "align_content": null,
            "visibility": null,
            "align_self": null,
            "height": null,
            "min_height": null,
            "padding": null,
            "grid_auto_rows": null,
            "grid_gap": null,
            "max_width": null,
            "order": null,
            "_view_module_version": "1.2.0",
            "grid_template_areas": null,
            "object_position": null,
            "object_fit": null,
            "grid_auto_columns": null,
            "margin": null,
            "display": null,
            "left": null
          }
        },
        "ab1c1dadb0c944ed80fbc1d5f81e858d": {
          "model_module": "@jupyter-widgets/controls",
          "model_name": "FloatProgressModel",
          "state": {
            "_view_name": "ProgressView",
            "style": "IPY_MODEL_29ca952f09894426b36caecb4a1c6235",
            "_dom_classes": [],
            "description": "100%",
            "_model_name": "FloatProgressModel",
            "bar_style": "success",
            "max": 18430,
            "_view_module": "@jupyter-widgets/controls",
            "_model_module_version": "1.5.0",
            "value": 18430,
            "_view_count": null,
            "_view_module_version": "1.5.0",
            "orientation": "horizontal",
            "min": 0,
            "description_tooltip": null,
            "_model_module": "@jupyter-widgets/controls",
            "layout": "IPY_MODEL_730df90d014549e0a34c8d7656a3f291"
          }
        },
        "d6772b1bdbd64026ad89b2d283535ad5": {
          "model_module": "@jupyter-widgets/controls",
          "model_name": "HTMLModel",
          "state": {
            "_view_name": "HTMLView",
            "style": "IPY_MODEL_651da0c135604a73b997597f20b455b6",
            "_dom_classes": [],
            "description": "",
            "_model_name": "HTMLModel",
            "placeholder": "​",
            "_view_module": "@jupyter-widgets/controls",
            "_model_module_version": "1.5.0",
            "value": " 18430/18430 [27:47&lt;00:00, 11.05it/s]",
            "_view_count": null,
            "_view_module_version": "1.5.0",
            "description_tooltip": null,
            "_model_module": "@jupyter-widgets/controls",
            "layout": "IPY_MODEL_42501a6ecf3e4228aea94f7dea1d8795"
          }
        },
        "29ca952f09894426b36caecb4a1c6235": {
          "model_module": "@jupyter-widgets/controls",
          "model_name": "ProgressStyleModel",
          "state": {
            "_view_name": "StyleView",
            "_model_name": "ProgressStyleModel",
            "description_width": "initial",
            "_view_module": "@jupyter-widgets/base",
            "_model_module_version": "1.5.0",
            "_view_count": null,
            "_view_module_version": "1.2.0",
            "bar_color": null,
            "_model_module": "@jupyter-widgets/controls"
          }
        },
        "730df90d014549e0a34c8d7656a3f291": {
          "model_module": "@jupyter-widgets/base",
          "model_name": "LayoutModel",
          "state": {
            "_view_name": "LayoutView",
            "grid_template_rows": null,
            "right": null,
            "justify_content": null,
            "_view_module": "@jupyter-widgets/base",
            "overflow": null,
            "_model_module_version": "1.2.0",
            "_view_count": null,
            "flex_flow": null,
            "width": null,
            "min_width": null,
            "border": null,
            "align_items": null,
            "bottom": null,
            "_model_module": "@jupyter-widgets/base",
            "top": null,
            "grid_column": null,
            "overflow_y": null,
            "overflow_x": null,
            "grid_auto_flow": null,
            "grid_area": null,
            "grid_template_columns": null,
            "flex": null,
            "_model_name": "LayoutModel",
            "justify_items": null,
            "grid_row": null,
            "max_height": null,
            "align_content": null,
            "visibility": null,
            "align_self": null,
            "height": null,
            "min_height": null,
            "padding": null,
            "grid_auto_rows": null,
            "grid_gap": null,
            "max_width": null,
            "order": null,
            "_view_module_version": "1.2.0",
            "grid_template_areas": null,
            "object_position": null,
            "object_fit": null,
            "grid_auto_columns": null,
            "margin": null,
            "display": null,
            "left": null
          }
        },
        "651da0c135604a73b997597f20b455b6": {
          "model_module": "@jupyter-widgets/controls",
          "model_name": "DescriptionStyleModel",
          "state": {
            "_view_name": "StyleView",
            "_model_name": "DescriptionStyleModel",
            "description_width": "",
            "_view_module": "@jupyter-widgets/base",
            "_model_module_version": "1.5.0",
            "_view_count": null,
            "_view_module_version": "1.2.0",
            "_model_module": "@jupyter-widgets/controls"
          }
        },
        "42501a6ecf3e4228aea94f7dea1d8795": {
          "model_module": "@jupyter-widgets/base",
          "model_name": "LayoutModel",
          "state": {
            "_view_name": "LayoutView",
            "grid_template_rows": null,
            "right": null,
            "justify_content": null,
            "_view_module": "@jupyter-widgets/base",
            "overflow": null,
            "_model_module_version": "1.2.0",
            "_view_count": null,
            "flex_flow": null,
            "width": null,
            "min_width": null,
            "border": null,
            "align_items": null,
            "bottom": null,
            "_model_module": "@jupyter-widgets/base",
            "top": null,
            "grid_column": null,
            "overflow_y": null,
            "overflow_x": null,
            "grid_auto_flow": null,
            "grid_area": null,
            "grid_template_columns": null,
            "flex": null,
            "_model_name": "LayoutModel",
            "justify_items": null,
            "grid_row": null,
            "max_height": null,
            "align_content": null,
            "visibility": null,
            "align_self": null,
            "height": null,
            "min_height": null,
            "padding": null,
            "grid_auto_rows": null,
            "grid_gap": null,
            "max_width": null,
            "order": null,
            "_view_module_version": "1.2.0",
            "grid_template_areas": null,
            "object_position": null,
            "object_fit": null,
            "grid_auto_columns": null,
            "margin": null,
            "display": null,
            "left": null
          }
        }
      }
    }
  },
  "cells": [
    {
      "cell_type": "markdown",
      "metadata": {
        "id": "view-in-github",
        "colab_type": "text"
      },
      "source": [
        "<a href=\"https://colab.research.google.com/github/mmsamiei/thesis-prototype/blob/master/phase2/tokenize_distilbert.ipynb\" target=\"_parent\"><img src=\"https://colab.research.google.com/assets/colab-badge.svg\" alt=\"Open In Colab\"/></a>"
      ]
    },
    {
      "cell_type": "code",
      "metadata": {
        "id": "srfPC8J4cIo_",
        "colab_type": "code",
        "colab": {
          "base_uri": "https://localhost:8080/",
          "height": 126
        },
        "outputId": "360d7cf4-d174-4d5f-d2d2-b3577c14d24e"
      },
      "source": [
        "from google.colab import drive\n",
        "drive.mount('/content/drive')"
      ],
      "execution_count": 1,
      "outputs": [
        {
          "output_type": "stream",
          "text": [
            "Go to this URL in a browser: https://accounts.google.com/o/oauth2/auth?client_id=947318989803-6bn6qk8qdgf4n4g3pfee6491hc0brc4i.apps.googleusercontent.com&redirect_uri=urn%3aietf%3awg%3aoauth%3a2.0%3aoob&response_type=code&scope=email%20https%3a%2f%2fwww.googleapis.com%2fauth%2fdocs.test%20https%3a%2f%2fwww.googleapis.com%2fauth%2fdrive%20https%3a%2f%2fwww.googleapis.com%2fauth%2fdrive.photos.readonly%20https%3a%2f%2fwww.googleapis.com%2fauth%2fpeopleapi.readonly\n",
            "\n",
            "Enter your authorization code:\n",
            "··········\n",
            "Mounted at /content/drive\n"
          ],
          "name": "stdout"
        }
      ]
    },
    {
      "cell_type": "code",
      "metadata": {
        "id": "khWoYnIPcgpc",
        "colab_type": "code",
        "colab": {}
      },
      "source": [
        "!cp /content/drive/My\\ Drive/Datasets/wizard_of_wikipedia/train.json  ./train.json"
      ],
      "execution_count": 0,
      "outputs": []
    },
    {
      "cell_type": "code",
      "metadata": {
        "id": "IQ71qrWOco8p",
        "colab_type": "code",
        "colab": {
          "base_uri": "https://localhost:8080/",
          "height": 622
        },
        "outputId": "ca2d22f0-9835-45cb-82ec-29e780f3738e"
      },
      "source": [
        "!pip install transformers"
      ],
      "execution_count": 4,
      "outputs": [
        {
          "output_type": "stream",
          "text": [
            "Collecting transformers\n",
            "\u001b[?25l  Downloading https://files.pythonhosted.org/packages/50/10/aeefced99c8a59d828a92cc11d213e2743212d3641c87c82d61b035a7d5c/transformers-2.3.0-py3-none-any.whl (447kB)\n",
            "\r\u001b[K     |▊                               | 10kB 19.7MB/s eta 0:00:01\r\u001b[K     |█▌                              | 20kB 2.2MB/s eta 0:00:01\r\u001b[K     |██▏                             | 30kB 2.9MB/s eta 0:00:01\r\u001b[K     |███                             | 40kB 2.1MB/s eta 0:00:01\r\u001b[K     |███▋                            | 51kB 2.4MB/s eta 0:00:01\r\u001b[K     |████▍                           | 61kB 2.8MB/s eta 0:00:01\r\u001b[K     |█████▏                          | 71kB 3.1MB/s eta 0:00:01\r\u001b[K     |█████▉                          | 81kB 3.3MB/s eta 0:00:01\r\u001b[K     |██████▋                         | 92kB 3.7MB/s eta 0:00:01\r\u001b[K     |███████▎                        | 102kB 3.5MB/s eta 0:00:01\r\u001b[K     |████████                        | 112kB 3.5MB/s eta 0:00:01\r\u001b[K     |████████▉                       | 122kB 3.5MB/s eta 0:00:01\r\u001b[K     |█████████▌                      | 133kB 3.5MB/s eta 0:00:01\r\u001b[K     |██████████▎                     | 143kB 3.5MB/s eta 0:00:01\r\u001b[K     |███████████                     | 153kB 3.5MB/s eta 0:00:01\r\u001b[K     |███████████▊                    | 163kB 3.5MB/s eta 0:00:01\r\u001b[K     |████████████▌                   | 174kB 3.5MB/s eta 0:00:01\r\u001b[K     |█████████████▏                  | 184kB 3.5MB/s eta 0:00:01\r\u001b[K     |██████████████                  | 194kB 3.5MB/s eta 0:00:01\r\u001b[K     |██████████████▋                 | 204kB 3.5MB/s eta 0:00:01\r\u001b[K     |███████████████▍                | 215kB 3.5MB/s eta 0:00:01\r\u001b[K     |████████████████▏               | 225kB 3.5MB/s eta 0:00:01\r\u001b[K     |████████████████▉               | 235kB 3.5MB/s eta 0:00:01\r\u001b[K     |█████████████████▋              | 245kB 3.5MB/s eta 0:00:01\r\u001b[K     |██████████████████▎             | 256kB 3.5MB/s eta 0:00:01\r\u001b[K     |███████████████████             | 266kB 3.5MB/s eta 0:00:01\r\u001b[K     |███████████████████▊            | 276kB 3.5MB/s eta 0:00:01\r\u001b[K     |████████████████████▌           | 286kB 3.5MB/s eta 0:00:01\r\u001b[K     |█████████████████████▎          | 296kB 3.5MB/s eta 0:00:01\r\u001b[K     |██████████████████████          | 307kB 3.5MB/s eta 0:00:01\r\u001b[K     |██████████████████████▊         | 317kB 3.5MB/s eta 0:00:01\r\u001b[K     |███████████████████████▍        | 327kB 3.5MB/s eta 0:00:01\r\u001b[K     |████████████████████████▏       | 337kB 3.5MB/s eta 0:00:01\r\u001b[K     |█████████████████████████       | 348kB 3.5MB/s eta 0:00:01\r\u001b[K     |█████████████████████████▋      | 358kB 3.5MB/s eta 0:00:01\r\u001b[K     |██████████████████████████▍     | 368kB 3.5MB/s eta 0:00:01\r\u001b[K     |███████████████████████████     | 378kB 3.5MB/s eta 0:00:01\r\u001b[K     |███████████████████████████▉    | 389kB 3.5MB/s eta 0:00:01\r\u001b[K     |████████████████████████████▋   | 399kB 3.5MB/s eta 0:00:01\r\u001b[K     |█████████████████████████████▎  | 409kB 3.5MB/s eta 0:00:01\r\u001b[K     |██████████████████████████████  | 419kB 3.5MB/s eta 0:00:01\r\u001b[K     |██████████████████████████████▊ | 430kB 3.5MB/s eta 0:00:01\r\u001b[K     |███████████████████████████████▌| 440kB 3.5MB/s eta 0:00:01\r\u001b[K     |████████████████████████████████| 450kB 3.5MB/s \n",
            "\u001b[?25hRequirement already satisfied: tqdm in /usr/local/lib/python3.6/dist-packages (from transformers) (4.28.1)\n",
            "Requirement already satisfied: boto3 in /usr/local/lib/python3.6/dist-packages (from transformers) (1.10.47)\n",
            "Requirement already satisfied: regex!=2019.12.17 in /usr/local/lib/python3.6/dist-packages (from transformers) (2019.12.20)\n",
            "Requirement already satisfied: requests in /usr/local/lib/python3.6/dist-packages (from transformers) (2.21.0)\n",
            "Collecting sentencepiece\n",
            "\u001b[?25l  Downloading https://files.pythonhosted.org/packages/74/f4/2d5214cbf13d06e7cb2c20d84115ca25b53ea76fa1f0ade0e3c9749de214/sentencepiece-0.1.85-cp36-cp36m-manylinux1_x86_64.whl (1.0MB)\n",
            "\u001b[K     |████████████████████████████████| 1.0MB 9.6MB/s \n",
            "\u001b[?25hCollecting sacremoses\n",
            "\u001b[?25l  Downloading https://files.pythonhosted.org/packages/a6/b4/7a41d630547a4afd58143597d5a49e07bfd4c42914d8335b2a5657efc14b/sacremoses-0.0.38.tar.gz (860kB)\n",
            "\u001b[K     |████████████████████████████████| 870kB 22.0MB/s \n",
            "\u001b[?25hRequirement already satisfied: numpy in /usr/local/lib/python3.6/dist-packages (from transformers) (1.17.5)\n",
            "Requirement already satisfied: jmespath<1.0.0,>=0.7.1 in /usr/local/lib/python3.6/dist-packages (from boto3->transformers) (0.9.4)\n",
            "Requirement already satisfied: s3transfer<0.3.0,>=0.2.0 in /usr/local/lib/python3.6/dist-packages (from boto3->transformers) (0.2.1)\n",
            "Requirement already satisfied: botocore<1.14.0,>=1.13.47 in /usr/local/lib/python3.6/dist-packages (from boto3->transformers) (1.13.47)\n",
            "Requirement already satisfied: chardet<3.1.0,>=3.0.2 in /usr/local/lib/python3.6/dist-packages (from requests->transformers) (3.0.4)\n",
            "Requirement already satisfied: urllib3<1.25,>=1.21.1 in /usr/local/lib/python3.6/dist-packages (from requests->transformers) (1.24.3)\n",
            "Requirement already satisfied: certifi>=2017.4.17 in /usr/local/lib/python3.6/dist-packages (from requests->transformers) (2019.11.28)\n",
            "Requirement already satisfied: idna<2.9,>=2.5 in /usr/local/lib/python3.6/dist-packages (from requests->transformers) (2.8)\n",
            "Requirement already satisfied: six in /usr/local/lib/python3.6/dist-packages (from sacremoses->transformers) (1.12.0)\n",
            "Requirement already satisfied: click in /usr/local/lib/python3.6/dist-packages (from sacremoses->transformers) (7.0)\n",
            "Requirement already satisfied: joblib in /usr/local/lib/python3.6/dist-packages (from sacremoses->transformers) (0.14.1)\n",
            "Requirement already satisfied: docutils<0.16,>=0.10 in /usr/local/lib/python3.6/dist-packages (from botocore<1.14.0,>=1.13.47->boto3->transformers) (0.15.2)\n",
            "Requirement already satisfied: python-dateutil<3.0.0,>=2.1; python_version >= \"2.7\" in /usr/local/lib/python3.6/dist-packages (from botocore<1.14.0,>=1.13.47->boto3->transformers) (2.6.1)\n",
            "Building wheels for collected packages: sacremoses\n",
            "  Building wheel for sacremoses (setup.py) ... \u001b[?25l\u001b[?25hdone\n",
            "  Created wheel for sacremoses: filename=sacremoses-0.0.38-cp36-none-any.whl size=884629 sha256=782b16508ed52e485bf8ef6e0960592e5e08e23a8721dbfdbeb5e2ec6091b2cd\n",
            "  Stored in directory: /root/.cache/pip/wheels/6d/ec/1a/21b8912e35e02741306f35f66c785f3afe94de754a0eaf1422\n",
            "Successfully built sacremoses\n",
            "Installing collected packages: sentencepiece, sacremoses, transformers\n",
            "Successfully installed sacremoses-0.0.38 sentencepiece-0.1.85 transformers-2.3.0\n"
          ],
          "name": "stdout"
        }
      ]
    },
    {
      "cell_type": "code",
      "metadata": {
        "id": "SNEvQsq7c6Gy",
        "colab_type": "code",
        "colab": {}
      },
      "source": [
        "import torch\n",
        "from transformers import AutoTokenizer\n",
        "\n",
        "tokenizer = AutoTokenizer.from_pretrained(\"distilbert-base-uncased\")\n"
      ],
      "execution_count": 0,
      "outputs": []
    },
    {
      "cell_type": "code",
      "metadata": {
        "id": "KDiRbmpQdTJZ",
        "colab_type": "code",
        "colab": {}
      },
      "source": [
        "import json\n",
        "\n",
        "file = open('./train.json')\n",
        "data = json.load(file)"
      ],
      "execution_count": 0,
      "outputs": []
    },
    {
      "cell_type": "code",
      "metadata": {
        "id": "l8opRRixdVZK",
        "colab_type": "code",
        "colab": {}
      },
      "source": [
        "def text_to_idslist(text):\n",
        "  text = str(text)\n",
        "  text = \"[CLS] \" + text + \" [SEP]\"\n",
        "  return tokenizer.convert_tokens_to_ids(tokenizer.tokenize(text))"
      ],
      "execution_count": 0,
      "outputs": []
    },
    {
      "cell_type": "code",
      "metadata": {
        "id": "yqB5_n3ZdXAQ",
        "colab_type": "code",
        "colab": {
          "base_uri": "https://localhost:8080/",
          "height": 269
        },
        "outputId": "233f0832-8d23-4c70-a2db-93ddb15ec4a4"
      },
      "source": [
        "!pip install -U tqdm"
      ],
      "execution_count": 8,
      "outputs": [
        {
          "output_type": "stream",
          "text": [
            "Collecting tqdm\n",
            "\u001b[?25l  Downloading https://files.pythonhosted.org/packages/72/c9/7fc20feac72e79032a7c8138fd0d395dc6d8812b5b9edf53c3afd0b31017/tqdm-4.41.1-py2.py3-none-any.whl (56kB)\n",
            "\r\u001b[K     |█████▊                          | 10kB 18.2MB/s eta 0:00:01\r\u001b[K     |███████████▌                    | 20kB 2.1MB/s eta 0:00:01\r\u001b[K     |█████████████████▎              | 30kB 2.8MB/s eta 0:00:01\r\u001b[K     |███████████████████████         | 40kB 2.0MB/s eta 0:00:01\r\u001b[K     |████████████████████████████▉   | 51kB 2.4MB/s eta 0:00:01\r\u001b[K     |████████████████████████████████| 61kB 2.2MB/s \n",
            "\u001b[?25hInstalling collected packages: tqdm\n",
            "  Found existing installation: tqdm 4.28.1\n",
            "    Uninstalling tqdm-4.28.1:\n",
            "      Successfully uninstalled tqdm-4.28.1\n",
            "Successfully installed tqdm-4.41.1\n"
          ],
          "name": "stdout"
        },
        {
          "output_type": "display_data",
          "data": {
            "application/vnd.colab-display-data+json": {
              "pip_warning": {
                "packages": [
                  "tqdm"
                ]
              }
            }
          },
          "metadata": {
            "tags": []
          }
        }
      ]
    },
    {
      "cell_type": "code",
      "metadata": {
        "id": "L-6810VvdYVC",
        "colab_type": "code",
        "colab": {
          "base_uri": "https://localhost:8080/",
          "height": 67,
          "referenced_widgets": [
            "34bbc706296347038d9e986d72050fed",
            "080f20c3783f45e4ae8cb1dd34bacdd5",
            "ab1c1dadb0c944ed80fbc1d5f81e858d",
            "d6772b1bdbd64026ad89b2d283535ad5",
            "29ca952f09894426b36caecb4a1c6235",
            "730df90d014549e0a34c8d7656a3f291",
            "651da0c135604a73b997597f20b455b6",
            "42501a6ecf3e4228aea94f7dea1d8795"
          ]
        },
        "outputId": "568a7a10-a402-493e-ccc1-bffa95fd8772"
      },
      "source": [
        "from tqdm.notebook import tqdm\n",
        "\n",
        "new_dataset = []\n",
        "\n",
        "for story in tqdm(data):\n",
        "    dialog = story['dialog']\n",
        "    history = text_to_idslist(story['chosen_topic'])\n",
        "    for turn in dialog:\n",
        "        if(\"checked_sentence\" in turn and len(history) != 0):\n",
        "            checked_sentence_tokenized = text_to_idslist(turn['checked_sentence'])\n",
        "            for checked_sentence_key in turn['checked_sentence']:\n",
        "                checked_sentence = turn['checked_sentence'][checked_sentence_key]\n",
        "                for retrieved_passage in turn['retrieved_passages']:\n",
        "                    for retrieved_passage_title in retrieved_passage:\n",
        "                        for sentence in retrieved_passage[retrieved_passage_title]:\n",
        "                            new_row = {}\n",
        "                            if sentence != checked_sentence:\n",
        "                                sentence_tokenized = text_to_idslist(sentence)\n",
        "                                #history_tokened = text_to_idslist(history)\n",
        "                                new_row['history'] = history.copy()\n",
        "                                new_row['true_sentence'] = checked_sentence_tokenized\n",
        "                                new_row['false_sentenc'] = sentence_tokenized\n",
        "                                new_dataset.append(new_row)\n",
        "\n",
        "                                \n",
        "        tokened_next = text_to_idslist(turn['text'])\n",
        "        if(len(history)==0):\n",
        "          history.extend(tokened_next)\n",
        "        else:\n",
        "          history.extend(tokened_next[1:])"
      ],
      "execution_count": 9,
      "outputs": [
        {
          "output_type": "display_data",
          "data": {
            "application/vnd.jupyter.widget-view+json": {
              "model_id": "34bbc706296347038d9e986d72050fed",
              "version_minor": 0,
              "version_major": 2
            },
            "text/plain": [
              "HBox(children=(FloatProgress(value=0.0, max=18430.0), HTML(value='')))"
            ]
          },
          "metadata": {
            "tags": []
          }
        },
        {
          "output_type": "stream",
          "text": [
            "\n"
          ],
          "name": "stdout"
        }
      ]
    },
    {
      "cell_type": "code",
      "metadata": {
        "id": "SIvF5ALMjozl",
        "colab_type": "code",
        "colab": {
          "base_uri": "https://localhost:8080/",
          "height": 35
        },
        "outputId": "b2ad78b4-ed01-45f6-aa51-ab9e497fdedd"
      },
      "source": [
        "len_dataset = len(new_dataset)\n",
        "\n",
        "print(len_dataset)"
      ],
      "execution_count": 10,
      "outputs": [
        {
          "output_type": "stream",
          "text": [
            "2775688\n"
          ],
          "name": "stdout"
        }
      ]
    },
    {
      "cell_type": "code",
      "metadata": {
        "id": "kfE9g1Sbj0LI",
        "colab_type": "code",
        "colab": {}
      },
      "source": [
        "with open('tokenized_distillbert_train.json', 'w') as outfile:\n",
        "  json.dump(new_dataset, outfile)"
      ],
      "execution_count": 0,
      "outputs": []
    },
    {
      "cell_type": "code",
      "metadata": {
        "id": "CceSiG_kmnY6",
        "colab_type": "code",
        "colab": {}
      },
      "source": [
        "!cp /content/tokenized_distillbert_train.json /content/drive/My\\ Drive/Thesis/phase-2"
      ],
      "execution_count": 0,
      "outputs": []
    }
  ]
}