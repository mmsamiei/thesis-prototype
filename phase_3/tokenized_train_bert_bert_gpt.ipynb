{
  "nbformat": 4,
  "nbformat_minor": 0,
  "metadata": {
    "colab": {
      "name": "Untitled110.ipynb",
      "provenance": [],
      "authorship_tag": "ABX9TyO1rQ/aB56aw7IFssHTghvK",
      "include_colab_link": true
    },
    "kernelspec": {
      "name": "python3",
      "display_name": "Python 3"
    },
    "widgets": {
      "application/vnd.jupyter.widget-state+json": {
        "ff34cf16670e498d9c27bee405962eca": {
          "model_module": "@jupyter-widgets/controls",
          "model_name": "HBoxModel",
          "state": {
            "_view_name": "HBoxView",
            "_dom_classes": [],
            "_model_name": "HBoxModel",
            "_view_module": "@jupyter-widgets/controls",
            "_model_module_version": "1.5.0",
            "_view_count": null,
            "_view_module_version": "1.5.0",
            "box_style": "",
            "layout": "IPY_MODEL_dc270f64ce72420fb9a13ed43bd69237",
            "_model_module": "@jupyter-widgets/controls",
            "children": [
              "IPY_MODEL_6fb5ecd184244ad09210b0e44c434387",
              "IPY_MODEL_fcafbe00bb694d77bfad27feeff957e1"
            ]
          }
        },
        "dc270f64ce72420fb9a13ed43bd69237": {
          "model_module": "@jupyter-widgets/base",
          "model_name": "LayoutModel",
          "state": {
            "_view_name": "LayoutView",
            "grid_template_rows": null,
            "right": null,
            "justify_content": null,
            "_view_module": "@jupyter-widgets/base",
            "overflow": null,
            "_model_module_version": "1.2.0",
            "_view_count": null,
            "flex_flow": null,
            "width": null,
            "min_width": null,
            "border": null,
            "align_items": null,
            "bottom": null,
            "_model_module": "@jupyter-widgets/base",
            "top": null,
            "grid_column": null,
            "overflow_y": null,
            "overflow_x": null,
            "grid_auto_flow": null,
            "grid_area": null,
            "grid_template_columns": null,
            "flex": null,
            "_model_name": "LayoutModel",
            "justify_items": null,
            "grid_row": null,
            "max_height": null,
            "align_content": null,
            "visibility": null,
            "align_self": null,
            "height": null,
            "min_height": null,
            "padding": null,
            "grid_auto_rows": null,
            "grid_gap": null,
            "max_width": null,
            "order": null,
            "_view_module_version": "1.2.0",
            "grid_template_areas": null,
            "object_position": null,
            "object_fit": null,
            "grid_auto_columns": null,
            "margin": null,
            "display": null,
            "left": null
          }
        },
        "6fb5ecd184244ad09210b0e44c434387": {
          "model_module": "@jupyter-widgets/controls",
          "model_name": "FloatProgressModel",
          "state": {
            "_view_name": "ProgressView",
            "style": "IPY_MODEL_a93d38c3addd49efb4061624b417817b",
            "_dom_classes": [],
            "description": "100%",
            "_model_name": "FloatProgressModel",
            "bar_style": "success",
            "max": 18430,
            "_view_module": "@jupyter-widgets/controls",
            "_model_module_version": "1.5.0",
            "value": 18430,
            "_view_count": null,
            "_view_module_version": "1.5.0",
            "orientation": "horizontal",
            "min": 0,
            "description_tooltip": null,
            "_model_module": "@jupyter-widgets/controls",
            "layout": "IPY_MODEL_d78abd4ebc5b47788f9386eb4197513c"
          }
        },
        "fcafbe00bb694d77bfad27feeff957e1": {
          "model_module": "@jupyter-widgets/controls",
          "model_name": "HTMLModel",
          "state": {
            "_view_name": "HTMLView",
            "style": "IPY_MODEL_5d0abbe61327419a844b86d5f55ac5db",
            "_dom_classes": [],
            "description": "",
            "_model_name": "HTMLModel",
            "placeholder": "​",
            "_view_module": "@jupyter-widgets/controls",
            "_model_module_version": "1.5.0",
            "value": " 18430/18430 [02:24&lt;00:00, 127.35it/s]",
            "_view_count": null,
            "_view_module_version": "1.5.0",
            "description_tooltip": null,
            "_model_module": "@jupyter-widgets/controls",
            "layout": "IPY_MODEL_b1da50892c3a4a1aaf7cb0bf840f1205"
          }
        },
        "a93d38c3addd49efb4061624b417817b": {
          "model_module": "@jupyter-widgets/controls",
          "model_name": "ProgressStyleModel",
          "state": {
            "_view_name": "StyleView",
            "_model_name": "ProgressStyleModel",
            "description_width": "initial",
            "_view_module": "@jupyter-widgets/base",
            "_model_module_version": "1.5.0",
            "_view_count": null,
            "_view_module_version": "1.2.0",
            "bar_color": null,
            "_model_module": "@jupyter-widgets/controls"
          }
        },
        "d78abd4ebc5b47788f9386eb4197513c": {
          "model_module": "@jupyter-widgets/base",
          "model_name": "LayoutModel",
          "state": {
            "_view_name": "LayoutView",
            "grid_template_rows": null,
            "right": null,
            "justify_content": null,
            "_view_module": "@jupyter-widgets/base",
            "overflow": null,
            "_model_module_version": "1.2.0",
            "_view_count": null,
            "flex_flow": null,
            "width": null,
            "min_width": null,
            "border": null,
            "align_items": null,
            "bottom": null,
            "_model_module": "@jupyter-widgets/base",
            "top": null,
            "grid_column": null,
            "overflow_y": null,
            "overflow_x": null,
            "grid_auto_flow": null,
            "grid_area": null,
            "grid_template_columns": null,
            "flex": null,
            "_model_name": "LayoutModel",
            "justify_items": null,
            "grid_row": null,
            "max_height": null,
            "align_content": null,
            "visibility": null,
            "align_self": null,
            "height": null,
            "min_height": null,
            "padding": null,
            "grid_auto_rows": null,
            "grid_gap": null,
            "max_width": null,
            "order": null,
            "_view_module_version": "1.2.0",
            "grid_template_areas": null,
            "object_position": null,
            "object_fit": null,
            "grid_auto_columns": null,
            "margin": null,
            "display": null,
            "left": null
          }
        },
        "5d0abbe61327419a844b86d5f55ac5db": {
          "model_module": "@jupyter-widgets/controls",
          "model_name": "DescriptionStyleModel",
          "state": {
            "_view_name": "StyleView",
            "_model_name": "DescriptionStyleModel",
            "description_width": "",
            "_view_module": "@jupyter-widgets/base",
            "_model_module_version": "1.5.0",
            "_view_count": null,
            "_view_module_version": "1.2.0",
            "_model_module": "@jupyter-widgets/controls"
          }
        },
        "b1da50892c3a4a1aaf7cb0bf840f1205": {
          "model_module": "@jupyter-widgets/base",
          "model_name": "LayoutModel",
          "state": {
            "_view_name": "LayoutView",
            "grid_template_rows": null,
            "right": null,
            "justify_content": null,
            "_view_module": "@jupyter-widgets/base",
            "overflow": null,
            "_model_module_version": "1.2.0",
            "_view_count": null,
            "flex_flow": null,
            "width": null,
            "min_width": null,
            "border": null,
            "align_items": null,
            "bottom": null,
            "_model_module": "@jupyter-widgets/base",
            "top": null,
            "grid_column": null,
            "overflow_y": null,
            "overflow_x": null,
            "grid_auto_flow": null,
            "grid_area": null,
            "grid_template_columns": null,
            "flex": null,
            "_model_name": "LayoutModel",
            "justify_items": null,
            "grid_row": null,
            "max_height": null,
            "align_content": null,
            "visibility": null,
            "align_self": null,
            "height": null,
            "min_height": null,
            "padding": null,
            "grid_auto_rows": null,
            "grid_gap": null,
            "max_width": null,
            "order": null,
            "_view_module_version": "1.2.0",
            "grid_template_areas": null,
            "object_position": null,
            "object_fit": null,
            "grid_auto_columns": null,
            "margin": null,
            "display": null,
            "left": null
          }
        }
      }
    }
  },
  "cells": [
    {
      "cell_type": "markdown",
      "metadata": {
        "id": "view-in-github",
        "colab_type": "text"
      },
      "source": [
        "<a href=\"https://colab.research.google.com/github/mmsamiei/thesis-prototype/blob/master/phase_3/tokenized_train_bert_bert_gpt.ipynb\" target=\"_parent\"><img src=\"https://colab.research.google.com/assets/colab-badge.svg\" alt=\"Open In Colab\"/></a>"
      ]
    },
    {
      "cell_type": "code",
      "metadata": {
        "id": "6sesDPti1BG7",
        "colab_type": "code",
        "colab": {
          "base_uri": "https://localhost:8080/",
          "height": 126
        },
        "outputId": "bd27cd18-be90-4a36-c30e-9038b7f13438"
      },
      "source": [
        "from google.colab import drive\n",
        "drive.mount('/content/drive')"
      ],
      "execution_count": 1,
      "outputs": [
        {
          "output_type": "stream",
          "text": [
            "Go to this URL in a browser: https://accounts.google.com/o/oauth2/auth?client_id=947318989803-6bn6qk8qdgf4n4g3pfee6491hc0brc4i.apps.googleusercontent.com&redirect_uri=urn%3aietf%3awg%3aoauth%3a2.0%3aoob&response_type=code&scope=email%20https%3a%2f%2fwww.googleapis.com%2fauth%2fdocs.test%20https%3a%2f%2fwww.googleapis.com%2fauth%2fdrive%20https%3a%2f%2fwww.googleapis.com%2fauth%2fdrive.photos.readonly%20https%3a%2f%2fwww.googleapis.com%2fauth%2fpeopleapi.readonly\n",
            "\n",
            "Enter your authorization code:\n",
            "··········\n",
            "Mounted at /content/drive\n"
          ],
          "name": "stdout"
        }
      ]
    },
    {
      "cell_type": "code",
      "metadata": {
        "id": "FaCbf0QJ215y",
        "colab_type": "code",
        "colab": {}
      },
      "source": [
        "!cp /content/drive/My\\ Drive/Datasets/wizard_of_wikipedia/train.json ./train.json"
      ],
      "execution_count": 0,
      "outputs": []
    },
    {
      "cell_type": "code",
      "metadata": {
        "id": "5_fh9F6F3ClB",
        "colab_type": "code",
        "colab": {
          "base_uri": "https://localhost:8080/",
          "height": 622
        },
        "outputId": "b413af6e-0486-4d39-bfde-ee6e84587af1"
      },
      "source": [
        "!pip install transformers"
      ],
      "execution_count": 3,
      "outputs": [
        {
          "output_type": "stream",
          "text": [
            "Collecting transformers\n",
            "\u001b[?25l  Downloading https://files.pythonhosted.org/packages/50/10/aeefced99c8a59d828a92cc11d213e2743212d3641c87c82d61b035a7d5c/transformers-2.3.0-py3-none-any.whl (447kB)\n",
            "\r\u001b[K     |▊                               | 10kB 18.6MB/s eta 0:00:01\r\u001b[K     |█▌                              | 20kB 3.1MB/s eta 0:00:01\r\u001b[K     |██▏                             | 30kB 4.4MB/s eta 0:00:01\r\u001b[K     |███                             | 40kB 2.9MB/s eta 0:00:01\r\u001b[K     |███▋                            | 51kB 3.6MB/s eta 0:00:01\r\u001b[K     |████▍                           | 61kB 4.2MB/s eta 0:00:01\r\u001b[K     |█████▏                          | 71kB 4.9MB/s eta 0:00:01\r\u001b[K     |█████▉                          | 81kB 5.5MB/s eta 0:00:01\r\u001b[K     |██████▋                         | 92kB 6.1MB/s eta 0:00:01\r\u001b[K     |███████▎                        | 102kB 4.8MB/s eta 0:00:01\r\u001b[K     |████████                        | 112kB 4.8MB/s eta 0:00:01\r\u001b[K     |████████▉                       | 122kB 4.8MB/s eta 0:00:01\r\u001b[K     |█████████▌                      | 133kB 4.8MB/s eta 0:00:01\r\u001b[K     |██████████▎                     | 143kB 4.8MB/s eta 0:00:01\r\u001b[K     |███████████                     | 153kB 4.8MB/s eta 0:00:01\r\u001b[K     |███████████▊                    | 163kB 4.8MB/s eta 0:00:01\r\u001b[K     |████████████▌                   | 174kB 4.8MB/s eta 0:00:01\r\u001b[K     |█████████████▏                  | 184kB 4.8MB/s eta 0:00:01\r\u001b[K     |██████████████                  | 194kB 4.8MB/s eta 0:00:01\r\u001b[K     |██████████████▋                 | 204kB 4.8MB/s eta 0:00:01\r\u001b[K     |███████████████▍                | 215kB 4.8MB/s eta 0:00:01\r\u001b[K     |████████████████▏               | 225kB 4.8MB/s eta 0:00:01\r\u001b[K     |████████████████▉               | 235kB 4.8MB/s eta 0:00:01\r\u001b[K     |█████████████████▋              | 245kB 4.8MB/s eta 0:00:01\r\u001b[K     |██████████████████▎             | 256kB 4.8MB/s eta 0:00:01\r\u001b[K     |███████████████████             | 266kB 4.8MB/s eta 0:00:01\r\u001b[K     |███████████████████▊            | 276kB 4.8MB/s eta 0:00:01\r\u001b[K     |████████████████████▌           | 286kB 4.8MB/s eta 0:00:01\r\u001b[K     |█████████████████████▎          | 296kB 4.8MB/s eta 0:00:01\r\u001b[K     |██████████████████████          | 307kB 4.8MB/s eta 0:00:01\r\u001b[K     |██████████████████████▊         | 317kB 4.8MB/s eta 0:00:01\r\u001b[K     |███████████████████████▍        | 327kB 4.8MB/s eta 0:00:01\r\u001b[K     |████████████████████████▏       | 337kB 4.8MB/s eta 0:00:01\r\u001b[K     |█████████████████████████       | 348kB 4.8MB/s eta 0:00:01\r\u001b[K     |█████████████████████████▋      | 358kB 4.8MB/s eta 0:00:01\r\u001b[K     |██████████████████████████▍     | 368kB 4.8MB/s eta 0:00:01\r\u001b[K     |███████████████████████████     | 378kB 4.8MB/s eta 0:00:01\r\u001b[K     |███████████████████████████▉    | 389kB 4.8MB/s eta 0:00:01\r\u001b[K     |████████████████████████████▋   | 399kB 4.8MB/s eta 0:00:01\r\u001b[K     |█████████████████████████████▎  | 409kB 4.8MB/s eta 0:00:01\r\u001b[K     |██████████████████████████████  | 419kB 4.8MB/s eta 0:00:01\r\u001b[K     |██████████████████████████████▊ | 430kB 4.8MB/s eta 0:00:01\r\u001b[K     |███████████████████████████████▌| 440kB 4.8MB/s eta 0:00:01\r\u001b[K     |████████████████████████████████| 450kB 4.8MB/s \n",
            "\u001b[?25hRequirement already satisfied: numpy in /usr/local/lib/python3.6/dist-packages (from transformers) (1.17.5)\n",
            "Requirement already satisfied: tqdm in /usr/local/lib/python3.6/dist-packages (from transformers) (4.28.1)\n",
            "Collecting sentencepiece\n",
            "\u001b[?25l  Downloading https://files.pythonhosted.org/packages/74/f4/2d5214cbf13d06e7cb2c20d84115ca25b53ea76fa1f0ade0e3c9749de214/sentencepiece-0.1.85-cp36-cp36m-manylinux1_x86_64.whl (1.0MB)\n",
            "\u001b[K     |████████████████████████████████| 1.0MB 46.5MB/s \n",
            "\u001b[?25hRequirement already satisfied: regex!=2019.12.17 in /usr/local/lib/python3.6/dist-packages (from transformers) (2019.12.20)\n",
            "Requirement already satisfied: boto3 in /usr/local/lib/python3.6/dist-packages (from transformers) (1.10.47)\n",
            "Collecting sacremoses\n",
            "\u001b[?25l  Downloading https://files.pythonhosted.org/packages/a6/b4/7a41d630547a4afd58143597d5a49e07bfd4c42914d8335b2a5657efc14b/sacremoses-0.0.38.tar.gz (860kB)\n",
            "\u001b[K     |████████████████████████████████| 870kB 35.0MB/s \n",
            "\u001b[?25hRequirement already satisfied: requests in /usr/local/lib/python3.6/dist-packages (from transformers) (2.21.0)\n",
            "Requirement already satisfied: jmespath<1.0.0,>=0.7.1 in /usr/local/lib/python3.6/dist-packages (from boto3->transformers) (0.9.4)\n",
            "Requirement already satisfied: s3transfer<0.3.0,>=0.2.0 in /usr/local/lib/python3.6/dist-packages (from boto3->transformers) (0.2.1)\n",
            "Requirement already satisfied: botocore<1.14.0,>=1.13.47 in /usr/local/lib/python3.6/dist-packages (from boto3->transformers) (1.13.47)\n",
            "Requirement already satisfied: six in /usr/local/lib/python3.6/dist-packages (from sacremoses->transformers) (1.12.0)\n",
            "Requirement already satisfied: click in /usr/local/lib/python3.6/dist-packages (from sacremoses->transformers) (7.0)\n",
            "Requirement already satisfied: joblib in /usr/local/lib/python3.6/dist-packages (from sacremoses->transformers) (0.14.1)\n",
            "Requirement already satisfied: urllib3<1.25,>=1.21.1 in /usr/local/lib/python3.6/dist-packages (from requests->transformers) (1.24.3)\n",
            "Requirement already satisfied: certifi>=2017.4.17 in /usr/local/lib/python3.6/dist-packages (from requests->transformers) (2019.11.28)\n",
            "Requirement already satisfied: chardet<3.1.0,>=3.0.2 in /usr/local/lib/python3.6/dist-packages (from requests->transformers) (3.0.4)\n",
            "Requirement already satisfied: idna<2.9,>=2.5 in /usr/local/lib/python3.6/dist-packages (from requests->transformers) (2.8)\n",
            "Requirement already satisfied: python-dateutil<3.0.0,>=2.1; python_version >= \"2.7\" in /usr/local/lib/python3.6/dist-packages (from botocore<1.14.0,>=1.13.47->boto3->transformers) (2.6.1)\n",
            "Requirement already satisfied: docutils<0.16,>=0.10 in /usr/local/lib/python3.6/dist-packages (from botocore<1.14.0,>=1.13.47->boto3->transformers) (0.15.2)\n",
            "Building wheels for collected packages: sacremoses\n",
            "  Building wheel for sacremoses (setup.py) ... \u001b[?25l\u001b[?25hdone\n",
            "  Created wheel for sacremoses: filename=sacremoses-0.0.38-cp36-none-any.whl size=884629 sha256=4851dd519f130d05907a71a63dfcf4901563cc98b3dcc3cbaab8cb977736855e\n",
            "  Stored in directory: /root/.cache/pip/wheels/6d/ec/1a/21b8912e35e02741306f35f66c785f3afe94de754a0eaf1422\n",
            "Successfully built sacremoses\n",
            "Installing collected packages: sentencepiece, sacremoses, transformers\n",
            "Successfully installed sacremoses-0.0.38 sentencepiece-0.1.85 transformers-2.3.0\n"
          ],
          "name": "stdout"
        }
      ]
    },
    {
      "cell_type": "code",
      "metadata": {
        "id": "S_f3mQsJ3F0s",
        "colab_type": "code",
        "colab": {
          "base_uri": "https://localhost:8080/",
          "height": 81
        },
        "outputId": "19913aa8-f80f-494b-d8d8-03cc62d39a13"
      },
      "source": [
        "import torch\n",
        "from transformers import BertTokenizer, GPT2Tokenizer\n",
        "bert_tokenizer = BertTokenizer.from_pretrained('bert-base-uncased')\n",
        "gpt_tokenizer = GPT2Tokenizer.from_pretrained('gpt2')"
      ],
      "execution_count": 4,
      "outputs": [
        {
          "output_type": "display_data",
          "data": {
            "text/html": [
              "<p style=\"color: red;\">\n",
              "The default version of TensorFlow in Colab will soon switch to TensorFlow 2.x.<br>\n",
              "We recommend you <a href=\"https://www.tensorflow.org/guide/migrate\" target=\"_blank\">upgrade</a> now \n",
              "or ensure your notebook will continue to use TensorFlow 1.x via the <code>%tensorflow_version 1.x</code> magic:\n",
              "<a href=\"https://colab.research.google.com/notebooks/tensorflow_version.ipynb\" target=\"_blank\">more info</a>.</p>\n"
            ],
            "text/plain": [
              "<IPython.core.display.HTML object>"
            ]
          },
          "metadata": {
            "tags": []
          }
        }
      ]
    },
    {
      "cell_type": "code",
      "metadata": {
        "id": "7SwS9Cmv3ZBC",
        "colab_type": "code",
        "colab": {}
      },
      "source": [
        "import json\n",
        "\n",
        "file = open('./train.json')\n",
        "data = json.load(file)"
      ],
      "execution_count": 0,
      "outputs": []
    },
    {
      "cell_type": "code",
      "metadata": {
        "id": "nbrGtyi33dC9",
        "colab_type": "code",
        "colab": {
          "base_uri": "https://localhost:8080/",
          "height": 269
        },
        "outputId": "620caa2d-1f4a-4e0b-c216-a2562864e2b8"
      },
      "source": [
        "!pip install -U tqdm"
      ],
      "execution_count": 6,
      "outputs": [
        {
          "output_type": "stream",
          "text": [
            "Collecting tqdm\n",
            "\u001b[?25l  Downloading https://files.pythonhosted.org/packages/72/c9/7fc20feac72e79032a7c8138fd0d395dc6d8812b5b9edf53c3afd0b31017/tqdm-4.41.1-py2.py3-none-any.whl (56kB)\n",
            "\r\u001b[K     |█████▊                          | 10kB 18.1MB/s eta 0:00:01\r\u001b[K     |███████████▌                    | 20kB 3.1MB/s eta 0:00:01\r\u001b[K     |█████████████████▎              | 30kB 4.2MB/s eta 0:00:01\r\u001b[K     |███████████████████████         | 40kB 2.9MB/s eta 0:00:01\r\u001b[K     |████████████████████████████▉   | 51kB 3.4MB/s eta 0:00:01\r\u001b[K     |████████████████████████████████| 61kB 2.8MB/s \n",
            "\u001b[?25hInstalling collected packages: tqdm\n",
            "  Found existing installation: tqdm 4.28.1\n",
            "    Uninstalling tqdm-4.28.1:\n",
            "      Successfully uninstalled tqdm-4.28.1\n",
            "Successfully installed tqdm-4.41.1\n"
          ],
          "name": "stdout"
        },
        {
          "output_type": "display_data",
          "data": {
            "application/vnd.colab-display-data+json": {
              "pip_warning": {
                "packages": [
                  "tqdm"
                ]
              }
            }
          },
          "metadata": {
            "tags": []
          }
        }
      ]
    },
    {
      "cell_type": "code",
      "metadata": {
        "id": "RconrclP32IB",
        "colab_type": "code",
        "colab": {}
      },
      "source": [
        "def bert_text_to_idslist(text):\n",
        "  '''\n",
        "  bert tokenizer text -> [CLS] text [SEP]\n",
        "  '''\n",
        "  text = str(text)\n",
        "  text = \"[CLS] \" + text + \" [SEP]\"\n",
        "  return bert_tokenizer.convert_tokens_to_ids(bert_tokenizer.tokenize(text))"
      ],
      "execution_count": 0,
      "outputs": []
    },
    {
      "cell_type": "code",
      "metadata": {
        "id": "SWNn32yA5afN",
        "colab_type": "code",
        "colab": {}
      },
      "source": [
        "def gpt_text_to_idslist(text):\n",
        "  '''\n",
        "  bert tokenizer text -> [CLS] text [SEP]\n",
        "  '''\n",
        "  text = str(text)\n",
        "  text = \"[CLS] \" + text + \" [SEP]\"\n",
        "  return gpt_tokenizer.convert_tokens_to_ids(gpt_tokenizer.tokenize(text))"
      ],
      "execution_count": 0,
      "outputs": []
    },
    {
      "cell_type": "code",
      "metadata": {
        "id": "wICRE4vZ3mvW",
        "colab_type": "code",
        "colab": {
          "base_uri": "https://localhost:8080/",
          "height": 67,
          "referenced_widgets": [
            "ff34cf16670e498d9c27bee405962eca",
            "dc270f64ce72420fb9a13ed43bd69237",
            "6fb5ecd184244ad09210b0e44c434387",
            "fcafbe00bb694d77bfad27feeff957e1",
            "a93d38c3addd49efb4061624b417817b",
            "d78abd4ebc5b47788f9386eb4197513c",
            "5d0abbe61327419a844b86d5f55ac5db",
            "b1da50892c3a4a1aaf7cb0bf840f1205"
          ]
        },
        "outputId": "edf3d352-db02-4962-fd5a-d45064008619"
      },
      "source": [
        "from tqdm.notebook import tqdm\n",
        "\n",
        "new_dataset = []\n",
        "\n",
        "for story in tqdm(data):\n",
        "    dialog = story['dialog']\n",
        "    history = []\n",
        "    for turn in dialog:\n",
        "        if(\"checked_sentence\" in turn and len(history) != 0): ## means he is wizard\n",
        "            checked_sentence_tokenized = bert_text_to_idslist(turn['checked_sentence'])\n",
        "            new_row = {}\n",
        "            new_row['history'] = history.copy()\n",
        "            new_row['knowledge'] = checked_sentence_tokenized\n",
        "            new_row['response'] = gpt_text_to_idslist(turn['text'])\n",
        "            new_dataset.append(new_row)\n",
        "        tokened_next = bert_text_to_idslist(turn['text'])\n",
        "        if(len(history)==0):\n",
        "          history.extend(tokened_next)\n",
        "        else:\n",
        "          history.extend(tokened_next[1:])"
      ],
      "execution_count": 14,
      "outputs": [
        {
          "output_type": "display_data",
          "data": {
            "application/vnd.jupyter.widget-view+json": {
              "model_id": "ff34cf16670e498d9c27bee405962eca",
              "version_minor": 0,
              "version_major": 2
            },
            "text/plain": [
              "HBox(children=(FloatProgress(value=0.0, max=18430.0), HTML(value='')))"
            ]
          },
          "metadata": {
            "tags": []
          }
        },
        {
          "output_type": "stream",
          "text": [
            "\n"
          ],
          "name": "stdout"
        }
      ]
    },
    {
      "cell_type": "code",
      "metadata": {
        "id": "AJX8RY-H7iZV",
        "colab_type": "code",
        "colab": {
          "base_uri": "https://localhost:8080/",
          "height": 35
        },
        "outputId": "034d4f7e-2827-4ff6-ffb0-1bd385b994fc"
      },
      "source": [
        "len(new_dataset)"
      ],
      "execution_count": 19,
      "outputs": [
        {
          "output_type": "execute_result",
          "data": {
            "text/plain": [
              "74092"
            ]
          },
          "metadata": {
            "tags": []
          },
          "execution_count": 19
        }
      ]
    },
    {
      "cell_type": "code",
      "metadata": {
        "id": "Lnia3QiK7xCu",
        "colab_type": "code",
        "colab": {
          "base_uri": "https://localhost:8080/",
          "height": 55
        },
        "outputId": "8b0b7547-68c5-4978-e1ea-a2cdbfe85d8c"
      },
      "source": [
        "gpt_tokenizer.decode(new_dataset[100]['response'])"
      ],
      "execution_count": 25,
      "outputs": [
        {
          "output_type": "execute_result",
          "data": {
            "text/plain": [
              "'[CLS] The word \"piano\" means soft, and the piano can be played different volumes by using different pressure on the keys. [SEP]'"
            ]
          },
          "metadata": {
            "tags": []
          },
          "execution_count": 25
        }
      ]
    },
    {
      "cell_type": "code",
      "metadata": {
        "id": "EB5T9blr7kH6",
        "colab_type": "code",
        "colab": {
          "base_uri": "https://localhost:8080/",
          "height": 55
        },
        "outputId": "231bbad7-e00f-4ac0-a07d-7d4021395c9d"
      },
      "source": [
        "bert_tokenizer.decode(new_dataset[100]['knowledge'])"
      ],
      "execution_count": 24,
      "outputs": [
        {
          "output_type": "execute_result",
          "data": {
            "text/plain": [
              "'[CLS] {\\'chosen _ piano _ 0\\':\\'the italian musical terms \" piano \" and \" forte \" indicate \" soft \" and \" loud \" respectively, in this context referring to the variations in volume ( i. e., loudness ) produced in response to a pianist \\\\\\'s touch or pressure on the keys : the greater the velocity of a key press, the greater the force of the hammer hitting the strings, and the louder the sound of the note produced and the stronger the attack.\\'} [SEP]'"
            ]
          },
          "metadata": {
            "tags": []
          },
          "execution_count": 24
        }
      ]
    },
    {
      "cell_type": "code",
      "metadata": {
        "id": "UOdZdUUA8EPy",
        "colab_type": "code",
        "colab": {
          "base_uri": "https://localhost:8080/",
          "height": 55
        },
        "outputId": "0f6678b4-75d6-4402-ab62-a57a9552ff86"
      },
      "source": [
        "bert_tokenizer.decode(new_dataset[100]['history'])"
      ],
      "execution_count": 26,
      "outputs": [
        {
          "output_type": "execute_result",
          "data": {
            "text/plain": [
              "\"[CLS] what do you know about the piano? great instrument! [SEP] it has been around since 1700. [SEP] where was it invented, do you know? [SEP] it was invented in italy by bartolomeo cristofori. [SEP] interesting! what else can you tell me please? i'm so curious. [SEP]\""
            ]
          },
          "metadata": {
            "tags": []
          },
          "execution_count": 26
        }
      ]
    },
    {
      "cell_type": "code",
      "metadata": {
        "id": "IdLAwl9z8HXe",
        "colab_type": "code",
        "colab": {}
      },
      "source": [
        "with open('tokenized_phase3.json', 'w') as outfile:\n",
        "  json.dump(new_dataset, outfile)"
      ],
      "execution_count": 0,
      "outputs": []
    },
    {
      "cell_type": "code",
      "metadata": {
        "id": "H9OYQskS8QlJ",
        "colab_type": "code",
        "colab": {}
      },
      "source": [
        "!cp /content/tokenized_phase3.json /content/drive/My\\ Drive/Thesis/phase-3"
      ],
      "execution_count": 0,
      "outputs": []
    }
  ]
}