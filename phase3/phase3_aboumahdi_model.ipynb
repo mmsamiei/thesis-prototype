{
  "nbformat": 4,
  "nbformat_minor": 0,
  "metadata": {
    "colab": {
      "name": "phase3_aboumahdi_model.ipynb",
      "provenance": [],
      "collapsed_sections": [],
      "machine_shape": "hm",
      "authorship_tag": "ABX9TyMXXGHJXiUDYRov2588XnPE",
      "include_colab_link": true
    },
    "kernelspec": {
      "name": "python3",
      "display_name": "Python 3"
    },
    "accelerator": "GPU"
  },
  "cells": [
    {
      "cell_type": "markdown",
      "metadata": {
        "id": "view-in-github",
        "colab_type": "text"
      },
      "source": [
        "<a href=\"https://colab.research.google.com/github/mmsamiei/thesis-prototype/blob/master/phase3/phase3_aboumahdi_model.ipynb\" target=\"_parent\"><img src=\"https://colab.research.google.com/assets/colab-badge.svg\" alt=\"Open In Colab\"/></a>"
      ]
    },
    {
      "cell_type": "code",
      "metadata": {
        "id": "Se4K7CVtE0gW",
        "colab_type": "code",
        "colab": {
          "base_uri": "https://localhost:8080/",
          "height": 126
        },
        "outputId": "ef6b0555-288d-4933-a120-f244efedf7cd"
      },
      "source": [
        "from google.colab import drive\n",
        "drive.mount('/content/drive')"
      ],
      "execution_count": 1,
      "outputs": [
        {
          "output_type": "stream",
          "text": [
            "Go to this URL in a browser: https://accounts.google.com/o/oauth2/auth?client_id=947318989803-6bn6qk8qdgf4n4g3pfee6491hc0brc4i.apps.googleusercontent.com&redirect_uri=urn%3aietf%3awg%3aoauth%3a2.0%3aoob&response_type=code&scope=email%20https%3a%2f%2fwww.googleapis.com%2fauth%2fdocs.test%20https%3a%2f%2fwww.googleapis.com%2fauth%2fdrive%20https%3a%2f%2fwww.googleapis.com%2fauth%2fdrive.photos.readonly%20https%3a%2f%2fwww.googleapis.com%2fauth%2fpeopleapi.readonly\n",
            "\n",
            "Enter your authorization code:\n",
            "··········\n",
            "Mounted at /content/drive\n"
          ],
          "name": "stdout"
        }
      ]
    },
    {
      "cell_type": "code",
      "metadata": {
        "id": "cIBgp1sYFOwc",
        "colab_type": "code",
        "colab": {}
      },
      "source": [
        "!cp /content/drive/My\\ Drive/Thesis/phase-3/tokenized_phase3.json ./train.json"
      ],
      "execution_count": 0,
      "outputs": []
    },
    {
      "cell_type": "code",
      "metadata": {
        "id": "dli9Zs0kFSl2",
        "colab_type": "code",
        "colab": {
          "base_uri": "https://localhost:8080/",
          "height": 622
        },
        "outputId": "3a087b09-52e3-4bd9-fce3-4c34e32909db"
      },
      "source": [
        "!pip install transformers"
      ],
      "execution_count": 3,
      "outputs": [
        {
          "output_type": "stream",
          "text": [
            "Collecting transformers\n",
            "\u001b[?25l  Downloading https://files.pythonhosted.org/packages/50/10/aeefced99c8a59d828a92cc11d213e2743212d3641c87c82d61b035a7d5c/transformers-2.3.0-py3-none-any.whl (447kB)\n",
            "\r\u001b[K     |▊                               | 10kB 20.0MB/s eta 0:00:01\r\u001b[K     |█▌                              | 20kB 1.9MB/s eta 0:00:01\r\u001b[K     |██▏                             | 30kB 2.4MB/s eta 0:00:01\r\u001b[K     |███                             | 40kB 1.7MB/s eta 0:00:01\r\u001b[K     |███▋                            | 51kB 2.0MB/s eta 0:00:01\r\u001b[K     |████▍                           | 61kB 2.4MB/s eta 0:00:01\r\u001b[K     |█████▏                          | 71kB 2.6MB/s eta 0:00:01\r\u001b[K     |█████▉                          | 81kB 2.7MB/s eta 0:00:01\r\u001b[K     |██████▋                         | 92kB 3.1MB/s eta 0:00:01\r\u001b[K     |███████▎                        | 102kB 2.9MB/s eta 0:00:01\r\u001b[K     |████████                        | 112kB 2.9MB/s eta 0:00:01\r\u001b[K     |████████▉                       | 122kB 2.9MB/s eta 0:00:01\r\u001b[K     |█████████▌                      | 133kB 2.9MB/s eta 0:00:01\r\u001b[K     |██████████▎                     | 143kB 2.9MB/s eta 0:00:01\r\u001b[K     |███████████                     | 153kB 2.9MB/s eta 0:00:01\r\u001b[K     |███████████▊                    | 163kB 2.9MB/s eta 0:00:01\r\u001b[K     |████████████▌                   | 174kB 2.9MB/s eta 0:00:01\r\u001b[K     |█████████████▏                  | 184kB 2.9MB/s eta 0:00:01\r\u001b[K     |██████████████                  | 194kB 2.9MB/s eta 0:00:01\r\u001b[K     |██████████████▋                 | 204kB 2.9MB/s eta 0:00:01\r\u001b[K     |███████████████▍                | 215kB 2.9MB/s eta 0:00:01\r\u001b[K     |████████████████▏               | 225kB 2.9MB/s eta 0:00:01\r\u001b[K     |████████████████▉               | 235kB 2.9MB/s eta 0:00:01\r\u001b[K     |█████████████████▋              | 245kB 2.9MB/s eta 0:00:01\r\u001b[K     |██████████████████▎             | 256kB 2.9MB/s eta 0:00:01\r\u001b[K     |███████████████████             | 266kB 2.9MB/s eta 0:00:01\r\u001b[K     |███████████████████▊            | 276kB 2.9MB/s eta 0:00:01\r\u001b[K     |████████████████████▌           | 286kB 2.9MB/s eta 0:00:01\r\u001b[K     |█████████████████████▎          | 296kB 2.9MB/s eta 0:00:01\r\u001b[K     |██████████████████████          | 307kB 2.9MB/s eta 0:00:01\r\u001b[K     |██████████████████████▊         | 317kB 2.9MB/s eta 0:00:01\r\u001b[K     |███████████████████████▍        | 327kB 2.9MB/s eta 0:00:01\r\u001b[K     |████████████████████████▏       | 337kB 2.9MB/s eta 0:00:01\r\u001b[K     |█████████████████████████       | 348kB 2.9MB/s eta 0:00:01\r\u001b[K     |█████████████████████████▋      | 358kB 2.9MB/s eta 0:00:01\r\u001b[K     |██████████████████████████▍     | 368kB 2.9MB/s eta 0:00:01\r\u001b[K     |███████████████████████████     | 378kB 2.9MB/s eta 0:00:01\r\u001b[K     |███████████████████████████▉    | 389kB 2.9MB/s eta 0:00:01\r\u001b[K     |████████████████████████████▋   | 399kB 2.9MB/s eta 0:00:01\r\u001b[K     |█████████████████████████████▎  | 409kB 2.9MB/s eta 0:00:01\r\u001b[K     |██████████████████████████████  | 419kB 2.9MB/s eta 0:00:01\r\u001b[K     |██████████████████████████████▊ | 430kB 2.9MB/s eta 0:00:01\r\u001b[K     |███████████████████████████████▌| 440kB 2.9MB/s eta 0:00:01\r\u001b[K     |████████████████████████████████| 450kB 2.9MB/s \n",
            "\u001b[?25hRequirement already satisfied: numpy in /usr/local/lib/python3.6/dist-packages (from transformers) (1.17.5)\n",
            "Requirement already satisfied: requests in /usr/local/lib/python3.6/dist-packages (from transformers) (2.21.0)\n",
            "Collecting sentencepiece\n",
            "\u001b[?25l  Downloading https://files.pythonhosted.org/packages/74/f4/2d5214cbf13d06e7cb2c20d84115ca25b53ea76fa1f0ade0e3c9749de214/sentencepiece-0.1.85-cp36-cp36m-manylinux1_x86_64.whl (1.0MB)\n",
            "\u001b[K     |████████████████████████████████| 1.0MB 9.4MB/s \n",
            "\u001b[?25hRequirement already satisfied: tqdm in /usr/local/lib/python3.6/dist-packages (from transformers) (4.28.1)\n",
            "Requirement already satisfied: regex!=2019.12.17 in /usr/local/lib/python3.6/dist-packages (from transformers) (2019.12.20)\n",
            "Collecting sacremoses\n",
            "\u001b[?25l  Downloading https://files.pythonhosted.org/packages/a6/b4/7a41d630547a4afd58143597d5a49e07bfd4c42914d8335b2a5657efc14b/sacremoses-0.0.38.tar.gz (860kB)\n",
            "\u001b[K     |████████████████████████████████| 870kB 20.6MB/s \n",
            "\u001b[?25hRequirement already satisfied: boto3 in /usr/local/lib/python3.6/dist-packages (from transformers) (1.10.47)\n",
            "Requirement already satisfied: idna<2.9,>=2.5 in /usr/local/lib/python3.6/dist-packages (from requests->transformers) (2.8)\n",
            "Requirement already satisfied: chardet<3.1.0,>=3.0.2 in /usr/local/lib/python3.6/dist-packages (from requests->transformers) (3.0.4)\n",
            "Requirement already satisfied: urllib3<1.25,>=1.21.1 in /usr/local/lib/python3.6/dist-packages (from requests->transformers) (1.24.3)\n",
            "Requirement already satisfied: certifi>=2017.4.17 in /usr/local/lib/python3.6/dist-packages (from requests->transformers) (2019.11.28)\n",
            "Requirement already satisfied: six in /usr/local/lib/python3.6/dist-packages (from sacremoses->transformers) (1.12.0)\n",
            "Requirement already satisfied: click in /usr/local/lib/python3.6/dist-packages (from sacremoses->transformers) (7.0)\n",
            "Requirement already satisfied: joblib in /usr/local/lib/python3.6/dist-packages (from sacremoses->transformers) (0.14.1)\n",
            "Requirement already satisfied: botocore<1.14.0,>=1.13.47 in /usr/local/lib/python3.6/dist-packages (from boto3->transformers) (1.13.47)\n",
            "Requirement already satisfied: s3transfer<0.3.0,>=0.2.0 in /usr/local/lib/python3.6/dist-packages (from boto3->transformers) (0.2.1)\n",
            "Requirement already satisfied: jmespath<1.0.0,>=0.7.1 in /usr/local/lib/python3.6/dist-packages (from boto3->transformers) (0.9.4)\n",
            "Requirement already satisfied: docutils<0.16,>=0.10 in /usr/local/lib/python3.6/dist-packages (from botocore<1.14.0,>=1.13.47->boto3->transformers) (0.15.2)\n",
            "Requirement already satisfied: python-dateutil<3.0.0,>=2.1; python_version >= \"2.7\" in /usr/local/lib/python3.6/dist-packages (from botocore<1.14.0,>=1.13.47->boto3->transformers) (2.6.1)\n",
            "Building wheels for collected packages: sacremoses\n",
            "  Building wheel for sacremoses (setup.py) ... \u001b[?25l\u001b[?25hdone\n",
            "  Created wheel for sacremoses: filename=sacremoses-0.0.38-cp36-none-any.whl size=884629 sha256=880f4e7395b060d2abda539501176d7a425f1fdf7bd4fe85c708a869038e4e29\n",
            "  Stored in directory: /root/.cache/pip/wheels/6d/ec/1a/21b8912e35e02741306f35f66c785f3afe94de754a0eaf1422\n",
            "Successfully built sacremoses\n",
            "Installing collected packages: sentencepiece, sacremoses, transformers\n",
            "Successfully installed sacremoses-0.0.38 sentencepiece-0.1.85 transformers-2.3.0\n"
          ],
          "name": "stdout"
        }
      ]
    },
    {
      "cell_type": "code",
      "metadata": {
        "id": "PivyY_bdFUQM",
        "colab_type": "code",
        "colab": {
          "base_uri": "https://localhost:8080/",
          "height": 64
        },
        "outputId": "94e271da-b158-4448-b2e0-1b3367b4c66d"
      },
      "source": [
        "import torch\n",
        "from transformers import DistilBertTokenizer, GPT2Tokenizer\n",
        "distilbert_tokenizer = DistilBertTokenizer.from_pretrained('distilbert-base-uncased')\n",
        "distilgpt_tokenizer = GPT2Tokenizer.from_pretrained('distilgpt2')"
      ],
      "execution_count": 4,
      "outputs": [
        {
          "output_type": "display_data",
          "data": {
            "text/html": [
              "<p style=\"color: red;\">\n",
              "The default version of TensorFlow in Colab will soon switch to TensorFlow 2.x.<br>\n",
              "We recommend you <a href=\"https://www.tensorflow.org/guide/migrate\" target=\"_blank\">upgrade</a> now \n",
              "or ensure your notebook will continue to use TensorFlow 1.x via the <code>%tensorflow_version 1.x</code> magic:\n",
              "<a href=\"https://colab.research.google.com/notebooks/tensorflow_version.ipynb\" target=\"_blank\">more info</a>.</p>\n"
            ],
            "text/plain": [
              "<IPython.core.display.HTML object>"
            ]
          },
          "metadata": {
            "tags": []
          }
        }
      ]
    },
    {
      "cell_type": "code",
      "metadata": {
        "id": "5dMJNcDDFdGw",
        "colab_type": "code",
        "colab": {}
      },
      "source": [
        "from torch.utils.data import Dataset, DataLoader\n",
        "import os\n",
        "import torch\n",
        "import json\n",
        "from torch.utils.data.sampler import SubsetRandomSampler"
      ],
      "execution_count": 0,
      "outputs": []
    },
    {
      "cell_type": "code",
      "metadata": {
        "id": "aVv9V5jwFfc6",
        "colab_type": "code",
        "colab": {}
      },
      "source": [
        "class MyDataset(Dataset):\n",
        "    \"\"\"My dataset.\"\"\"\n",
        "\n",
        "    def __init__(self, json_file):\n",
        "        \"\"\"\n",
        "        Args:\n",
        "            json_file (string): Path to the json file with annotations.\n",
        "        \"\"\"\n",
        "        self.dialogues = json.load(open(json_file))\n",
        "        self.root_dir = json_file\n",
        "\n",
        "        self.dialogues = sorted(self.dialogues, key=lambda x: len(x['history']))\n",
        "\n",
        "    def __len__(self):\n",
        "        return len(self.dialogues)\n",
        "\n",
        "    def __getitem__(self, idx):\n",
        "      \n",
        "        \n",
        "        history_lst = self.dialogues[idx]['history']\n",
        "        knowledge_lst = self.dialogues[idx]['knowledge']\n",
        "        response_lst = self.dialogues[idx]['response']\n",
        "\n",
        "\n",
        "        if(len(history_lst)>100):\n",
        "          history_lst = history_lst[-100:]\n",
        "\n",
        "        if(len(knowledge_lst)>50):\n",
        "          knowledge_lst = knowledge_lst[:50]\n",
        "        \n",
        "        if(len(response_lst)>50):\n",
        "          response_lst = response_lst[:50]\n",
        "        \n",
        "\n",
        "        history = torch.LongTensor(history_lst)\n",
        "        knowledge = torch.LongTensor(knowledge_lst)\n",
        "        response = torch.LongTensor(response_lst)\n",
        "\n",
        "        sample = {'history': history, 'knowledge': knowledge, 'response': response}\n",
        "\n",
        "        return sample"
      ],
      "execution_count": 0,
      "outputs": []
    },
    {
      "cell_type": "code",
      "metadata": {
        "id": "Yr-69whgFgub",
        "colab_type": "code",
        "colab": {}
      },
      "source": [
        "dataset = MyDataset('train.json')"
      ],
      "execution_count": 0,
      "outputs": []
    },
    {
      "cell_type": "code",
      "metadata": {
        "id": "V11x9OAXFh5e",
        "colab_type": "code",
        "colab": {
          "base_uri": "https://localhost:8080/",
          "height": 35
        },
        "outputId": "0113da89-1451-4add-aa6e-c7967cbe9538"
      },
      "source": [
        "print('len dataset is: {}'.format(len(dataset)))"
      ],
      "execution_count": 20,
      "outputs": [
        {
          "output_type": "stream",
          "text": [
            "len dataset is: 74092\n"
          ],
          "name": "stdout"
        }
      ]
    },
    {
      "cell_type": "code",
      "metadata": {
        "id": "6KyIRi8gFkRB",
        "colab_type": "code",
        "colab": {}
      },
      "source": [
        "def my_collate_fn(batch):\n",
        "\n",
        "  len_batch = len(batch)\n",
        "\n",
        "  \n",
        "  max_len_history = max([len(data['history']) for data in batch])\n",
        "  max_len_knowledge_sample = max([len(data['knowledge']) for data in batch])\n",
        "  max_len_response_sample = max([len(data['response']) for data in batch])\n",
        "  \n",
        "  padding_ind = 0 ## for bert is 0\n",
        "  result_history = torch.zeros(len_batch, max_len_history)\n",
        "  result_knowledge_sample = torch.zeros(len_batch, max_len_knowledge_sample)\n",
        "  result_response_sample = torch.zeros(len_batch, max_len_response_sample)\n",
        "\n",
        "  for i, data in enumerate(batch):\n",
        "    p1 = len(data['history'])\n",
        "    result_history[i, :p1] = data['history']\n",
        "    p2 = len(data['knowledge'])\n",
        "    result_knowledge_sample[i, :p2] = data['knowledge']\n",
        "    p3 = len(data['response'])\n",
        "    result_knowledge_sample[i, :p3] = data['response']\n",
        "\n",
        "\n",
        "\n",
        "  return result_history.long(), result_knowledge_sample.long(), result_knowledge_sample.long()\n",
        "\n",
        "sampler = torch.utils.data.SequentialSampler(dataset)\n",
        "dataset_loader = torch.utils.data.DataLoader(dataset, batch_size=128, sampler=sampler,\n",
        "                                             shuffle=False, collate_fn=my_collate_fn)"
      ],
      "execution_count": 0,
      "outputs": []
    },
    {
      "cell_type": "code",
      "metadata": {
        "id": "gZ_pJzakFl-h",
        "colab_type": "code",
        "colab": {
          "base_uri": "https://localhost:8080/",
          "height": 88
        },
        "outputId": "9eae5bdd-a933-41d8-c620-1ac2d5e8e173"
      },
      "source": [
        "print(\"Ok let's test!!!!\")\n",
        "print(distilbert_tokenizer.decode(dataset[10000]['history']))\n",
        "print(distilbert_tokenizer.decode(dataset[10000]['knowledge']))\n",
        "print(distilgpt_tokenizer.decode(dataset[10000]['response']))"
      ],
      "execution_count": 22,
      "outputs": [
        {
          "output_type": "stream",
          "text": [
            "Ok let's test!!!!\n",
            "[CLS] i really enjoy japanese cousine, especially sushi. [SEP] me too, what type of rice do you have it with? [SEP]\n",
            "[CLS] sushi can be prepared with either brown or white rice. [SEP]\n",
            "[CLS] Most often white, basmati. But I use brown sometimes also. [SEP]\n"
          ],
          "name": "stdout"
        }
      ]
    },
    {
      "cell_type": "code",
      "metadata": {
        "id": "rIgoz5mfF_SE",
        "colab_type": "code",
        "colab": {
          "base_uri": "https://localhost:8080/",
          "height": 159
        },
        "outputId": "7eaf7b2d-168b-4482-ff14-5febd80e6000"
      },
      "source": [
        "print(\"Ok let's test!!!!\")\n",
        "print((dataset[10000]['history']))\n",
        "print((dataset[10000]['knowledge']))\n",
        "print((dataset[10000]['response']))"
      ],
      "execution_count": 23,
      "outputs": [
        {
          "output_type": "stream",
          "text": [
            "Ok let's test!!!!\n",
            "tensor([  101,  1045,  2428,  5959,  2887,  5542,  2063,  1010,  2926, 10514,\n",
            "         6182,  1012,   102,  2033,  2205,  1010,  2054,  2828,  1997,  5785,\n",
            "         2079,  2017,  2031,  2009,  2007,  1029,   102])\n",
            "tensor([  101, 10514,  6182,  2064,  2022,  4810,  2007,  2593,  2829,  2030,\n",
            "         2317,  5785,  1012,   102])\n",
            "tensor([  58, 5097,   50,   60, 4042, 1690, 2330,   11, 1615, 6759,   72,   13,\n",
            "         887,  314,  779, 7586, 3360,  635,   13,  685, 5188,   47,   60])\n"
          ],
          "name": "stdout"
        }
      ]
    },
    {
      "cell_type": "code",
      "metadata": {
        "id": "x2Z7ER4NGbcc",
        "colab_type": "code",
        "colab": {}
      },
      "source": [
        "device = torch.device('cuda' if torch.cuda.is_available() else 'cpu')"
      ],
      "execution_count": 0,
      "outputs": []
    },
    {
      "cell_type": "code",
      "metadata": {
        "id": "WTFGe1PlG_pX",
        "colab_type": "code",
        "colab": {}
      },
      "source": [
        "for _, batch in enumerate(dataset_loader):\n",
        "  history, knowledge, response = batch\n",
        "  # [batch_size, len], [batch_size, len], [batch_size, len]"
      ],
      "execution_count": 0,
      "outputs": []
    },
    {
      "cell_type": "code",
      "metadata": {
        "id": "Yr5t10OIIbWk",
        "colab_type": "code",
        "colab": {
          "base_uri": "https://localhost:8080/",
          "height": 1000
        },
        "outputId": "56af5c6b-44eb-4028-81a0-bd8d8246962a"
      },
      "source": [
        "from transformers import AutoModel\n",
        "model = AutoModel.from_pretrained('distilbert-base-uncased')\n",
        "model.__dict__"
      ],
      "execution_count": 32,
      "outputs": [
        {
          "output_type": "execute_result",
          "data": {
            "text/plain": [
              "{'_backward_hooks': OrderedDict(),\n",
              " '_buffers': OrderedDict(),\n",
              " '_forward_hooks': OrderedDict(),\n",
              " '_forward_pre_hooks': OrderedDict(),\n",
              " '_load_state_dict_pre_hooks': OrderedDict(),\n",
              " '_modules': OrderedDict([('wte', Embedding(50257, 768)),\n",
              "              ('wpe', Embedding(1024, 768)),\n",
              "              ('drop', Dropout(p=0.1, inplace=False)),\n",
              "              ('h', ModuleList(\n",
              "                 (0): Block(\n",
              "                   (ln_1): LayerNorm((768,), eps=1e-05, elementwise_affine=True)\n",
              "                   (attn): Attention(\n",
              "                     (c_attn): Conv1D()\n",
              "                     (c_proj): Conv1D()\n",
              "                     (attn_dropout): Dropout(p=0.1, inplace=False)\n",
              "                     (resid_dropout): Dropout(p=0.1, inplace=False)\n",
              "                   )\n",
              "                   (ln_2): LayerNorm((768,), eps=1e-05, elementwise_affine=True)\n",
              "                   (mlp): MLP(\n",
              "                     (c_fc): Conv1D()\n",
              "                     (c_proj): Conv1D()\n",
              "                     (dropout): Dropout(p=0.1, inplace=False)\n",
              "                   )\n",
              "                 )\n",
              "                 (1): Block(\n",
              "                   (ln_1): LayerNorm((768,), eps=1e-05, elementwise_affine=True)\n",
              "                   (attn): Attention(\n",
              "                     (c_attn): Conv1D()\n",
              "                     (c_proj): Conv1D()\n",
              "                     (attn_dropout): Dropout(p=0.1, inplace=False)\n",
              "                     (resid_dropout): Dropout(p=0.1, inplace=False)\n",
              "                   )\n",
              "                   (ln_2): LayerNorm((768,), eps=1e-05, elementwise_affine=True)\n",
              "                   (mlp): MLP(\n",
              "                     (c_fc): Conv1D()\n",
              "                     (c_proj): Conv1D()\n",
              "                     (dropout): Dropout(p=0.1, inplace=False)\n",
              "                   )\n",
              "                 )\n",
              "                 (2): Block(\n",
              "                   (ln_1): LayerNorm((768,), eps=1e-05, elementwise_affine=True)\n",
              "                   (attn): Attention(\n",
              "                     (c_attn): Conv1D()\n",
              "                     (c_proj): Conv1D()\n",
              "                     (attn_dropout): Dropout(p=0.1, inplace=False)\n",
              "                     (resid_dropout): Dropout(p=0.1, inplace=False)\n",
              "                   )\n",
              "                   (ln_2): LayerNorm((768,), eps=1e-05, elementwise_affine=True)\n",
              "                   (mlp): MLP(\n",
              "                     (c_fc): Conv1D()\n",
              "                     (c_proj): Conv1D()\n",
              "                     (dropout): Dropout(p=0.1, inplace=False)\n",
              "                   )\n",
              "                 )\n",
              "                 (3): Block(\n",
              "                   (ln_1): LayerNorm((768,), eps=1e-05, elementwise_affine=True)\n",
              "                   (attn): Attention(\n",
              "                     (c_attn): Conv1D()\n",
              "                     (c_proj): Conv1D()\n",
              "                     (attn_dropout): Dropout(p=0.1, inplace=False)\n",
              "                     (resid_dropout): Dropout(p=0.1, inplace=False)\n",
              "                   )\n",
              "                   (ln_2): LayerNorm((768,), eps=1e-05, elementwise_affine=True)\n",
              "                   (mlp): MLP(\n",
              "                     (c_fc): Conv1D()\n",
              "                     (c_proj): Conv1D()\n",
              "                     (dropout): Dropout(p=0.1, inplace=False)\n",
              "                   )\n",
              "                 )\n",
              "                 (4): Block(\n",
              "                   (ln_1): LayerNorm((768,), eps=1e-05, elementwise_affine=True)\n",
              "                   (attn): Attention(\n",
              "                     (c_attn): Conv1D()\n",
              "                     (c_proj): Conv1D()\n",
              "                     (attn_dropout): Dropout(p=0.1, inplace=False)\n",
              "                     (resid_dropout): Dropout(p=0.1, inplace=False)\n",
              "                   )\n",
              "                   (ln_2): LayerNorm((768,), eps=1e-05, elementwise_affine=True)\n",
              "                   (mlp): MLP(\n",
              "                     (c_fc): Conv1D()\n",
              "                     (c_proj): Conv1D()\n",
              "                     (dropout): Dropout(p=0.1, inplace=False)\n",
              "                   )\n",
              "                 )\n",
              "                 (5): Block(\n",
              "                   (ln_1): LayerNorm((768,), eps=1e-05, elementwise_affine=True)\n",
              "                   (attn): Attention(\n",
              "                     (c_attn): Conv1D()\n",
              "                     (c_proj): Conv1D()\n",
              "                     (attn_dropout): Dropout(p=0.1, inplace=False)\n",
              "                     (resid_dropout): Dropout(p=0.1, inplace=False)\n",
              "                   )\n",
              "                   (ln_2): LayerNorm((768,), eps=1e-05, elementwise_affine=True)\n",
              "                   (mlp): MLP(\n",
              "                     (c_fc): Conv1D()\n",
              "                     (c_proj): Conv1D()\n",
              "                     (dropout): Dropout(p=0.1, inplace=False)\n",
              "                   )\n",
              "                 )\n",
              "               )),\n",
              "              ('ln_f',\n",
              "               LayerNorm((768,), eps=1e-05, elementwise_affine=True))]),\n",
              " '_parameters': OrderedDict(),\n",
              " '_state_dict_hooks': OrderedDict(),\n",
              " 'config': {\n",
              "   \"attn_pdrop\": 0.1,\n",
              "   \"embd_pdrop\": 0.1,\n",
              "   \"finetuning_task\": null,\n",
              "   \"id2label\": {\n",
              "     \"0\": \"LABEL_0\"\n",
              "   },\n",
              "   \"initializer_range\": 0.02,\n",
              "   \"is_decoder\": false,\n",
              "   \"label2id\": {\n",
              "     \"LABEL_0\": 0\n",
              "   },\n",
              "   \"layer_norm_epsilon\": 1e-05,\n",
              "   \"n_ctx\": 1024,\n",
              "   \"n_embd\": 768,\n",
              "   \"n_head\": 12,\n",
              "   \"n_layer\": 6,\n",
              "   \"n_positions\": 1024,\n",
              "   \"num_labels\": 1,\n",
              "   \"output_attentions\": false,\n",
              "   \"output_hidden_states\": false,\n",
              "   \"output_past\": true,\n",
              "   \"pruned_heads\": {},\n",
              "   \"resid_pdrop\": 0.1,\n",
              "   \"summary_activation\": null,\n",
              "   \"summary_first_dropout\": 0.1,\n",
              "   \"summary_proj_to_labels\": true,\n",
              "   \"summary_type\": \"cls_index\",\n",
              "   \"summary_use_proj\": true,\n",
              "   \"torchscript\": false,\n",
              "   \"use_bfloat16\": false,\n",
              "   \"vocab_size\": 50257\n",
              " },\n",
              " 'output_attentions': False,\n",
              " 'output_hidden_states': False,\n",
              " 'output_past': True,\n",
              " 'training': False}"
            ]
          },
          "metadata": {
            "tags": []
          },
          "execution_count": 32
        }
      ]
    },
    {
      "cell_type": "code",
      "metadata": {
        "id": "LyEl1L85HdBz",
        "colab_type": "code",
        "colab": {}
      },
      "source": [
        "import torch\n",
        "from transformers import *\n",
        "import numpy as np\n",
        "import torch.nn as nn\n",
        "from transformers import AutoModel\n",
        "\n",
        "\n",
        "class Seq2SeqModel(nn.Module):\n",
        "  \n",
        "  def __init__(self, device):\n",
        "    super().__init__()\n",
        "\n",
        "    self.device = device\n",
        "    \n",
        "    self.dbert = AutoModel.from_pretrained('distilbert-base-uncased')\n",
        "\n",
        "  def forward(self, history, knowledge):\n",
        "    \n",
        "    # history = [batch_size, history_len]\n",
        "    # knowledge = [batch_size, knowledge_len]\n",
        "\n",
        "    x = torch.cat((history, knowledge),1)\n",
        "    temp = self.dbert(x)[0]\n",
        "\n",
        "    return temp"
      ],
      "execution_count": 0,
      "outputs": []
    },
    {
      "cell_type": "code",
      "metadata": {
        "id": "Tgn8c0tDNY54",
        "colab_type": "code",
        "colab": {}
      },
      "source": [
        "model = Seq2SeqModel(device).to(device)"
      ],
      "execution_count": 0,
      "outputs": []
    },
    {
      "cell_type": "code",
      "metadata": {
        "id": "OgLmM6yLHOXn",
        "colab_type": "code",
        "colab": {
          "base_uri": "https://localhost:8080/",
          "height": 35
        },
        "outputId": "93ce576a-6c79-4a2b-8e29-e1a25b510b16"
      },
      "source": [
        "history_len = 20\n",
        "batch_size = 64\n",
        "vocab_size = 30000\n",
        "test_history = torch.LongTensor(batch_size, history_len).random_(1,vocab_size).to(device)\n",
        "knowledge_len = 20\n",
        "test_knowledge = torch.LongTensor(batch_size, knowledge_len).random_(1,vocab_size).to(device)\n",
        "model(test_history, test_knowledge).shape"
      ],
      "execution_count": 57,
      "outputs": [
        {
          "output_type": "execute_result",
          "data": {
            "text/plain": [
              "torch.Size([64, 40, 768])"
            ]
          },
          "metadata": {
            "tags": []
          },
          "execution_count": 57
        }
      ]
    }
  ]
}